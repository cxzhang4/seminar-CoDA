{
 "cells": [
  {
   "cell_type": "code",
   "id": "initial_id",
   "metadata": {
    "collapsed": true,
    "ExecuteTime": {
     "end_time": "2024-08-23T17:13:46.696921Z",
     "start_time": "2024-08-23T17:13:46.247584Z"
    }
   },
   "source": [
    "import scanpy as sc\n",
    "import pandas as pd\n",
    "import numpy as np"
   ],
   "outputs": [],
   "execution_count": 1
  },
  {
   "metadata": {
    "ExecuteTime": {
     "end_time": "2024-08-23T17:14:29.585948Z",
     "start_time": "2024-08-23T17:14:29.524009Z"
    }
   },
   "cell_type": "code",
   "source": [
    "data_null_gen = sc.read_h5ad(\"synthetic-empirical_corr-filtered_data_maxpool_processed.h5ad\")\n",
    "data_null_gen"
   ],
   "id": "b9d94008fea7696b",
   "outputs": [
    {
     "data": {
      "text/plain": [
       "AnnData object with n_obs × n_vars = 5568 × 2951"
      ]
     },
     "execution_count": 2,
     "metadata": {},
     "output_type": "execute_result"
    }
   ],
   "execution_count": 2
  },
  {
   "metadata": {
    "ExecuteTime": {
     "end_time": "2024-08-23T18:51:27.570555Z",
     "start_time": "2024-08-23T18:51:27.564340Z"
    }
   },
   "cell_type": "code",
   "source": "data_null_gen.layers",
   "id": "987549a4b884600d",
   "outputs": [
    {
     "data": {
      "text/plain": [
       "Layers with keys: "
      ]
     },
     "execution_count": 8,
     "metadata": {},
     "output_type": "execute_result"
    }
   ],
   "execution_count": 8
  },
  {
   "metadata": {},
   "cell_type": "markdown",
   "source": "",
   "id": "e8d1a5ba94849404"
  },
  {
   "metadata": {},
   "cell_type": "code",
   "outputs": [],
   "execution_count": null,
   "source": "",
   "id": "48baa9292c56c39c"
  },
  {
   "metadata": {},
   "cell_type": "code",
   "outputs": [],
   "execution_count": null,
   "source": "",
   "id": "f31e0622ccaf2aec"
  }
 ],
 "metadata": {
  "kernelspec": {
   "display_name": "Python 3",
   "language": "python",
   "name": "python3"
  },
  "language_info": {
   "codemirror_mode": {
    "name": "ipython",
    "version": 2
   },
   "file_extension": ".py",
   "mimetype": "text/x-python",
   "name": "python",
   "nbconvert_exporter": "python",
   "pygments_lexer": "ipython2",
   "version": "2.7.6"
  }
 },
 "nbformat": 4,
 "nbformat_minor": 5
}
