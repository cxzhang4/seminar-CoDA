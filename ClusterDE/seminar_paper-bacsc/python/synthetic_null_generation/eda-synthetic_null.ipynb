{
 "cells": [
  {
   "cell_type": "code",
   "id": "initial_id",
   "metadata": {
    "collapsed": true,
    "ExecuteTime": {
     "end_time": "2024-08-24T20:01:32.810554Z",
     "start_time": "2024-08-24T20:01:31.827594Z"
    }
   },
   "source": [
    "import scanpy as sc\n",
    "import pandas as pd\n",
    "import numpy as np"
   ],
   "outputs": [],
   "execution_count": 1
  },
  {
   "metadata": {
    "ExecuteTime": {
     "end_time": "2024-08-25T12:11:46.488601Z",
     "start_time": "2024-08-25T12:11:46.390712Z"
    }
   },
   "cell_type": "code",
   "source": [
    "data_null_gen = sc.read_h5ad(\"../../data/probe_Bac_scRNAseq_Rosenthal/B subtilis minimal media/synthetic-empirical_corr-filtered_data_maxpool_processed.h5ad\")\n",
    "data_null_gen"
   ],
   "id": "b9d94008fea7696b",
   "outputs": [
    {
     "data": {
      "text/plain": [
       "AnnData object with n_obs × n_vars = 5568 × 2951\n",
       "    obs: 'n_genes_by_counts', 'log1p_n_genes_by_counts', 'total_counts', 'log1p_total_counts'\n",
       "    var: 'var_counts', 'mean_counts', 'is_scd_outlier', 'nb_overdisp', 'nb_overdisp_cutoff', 'nb_mean', 'nb_umi', 'Intercept_step1_sct', 'log_umi_step1_sct', 'dispersion_step1_sct', 'n_cells_by_counts', 'log1p_mean_counts', 'pct_dropout_by_counts', 'total_counts', 'log1p_total_counts', 'mean', 'std'\n",
       "    uns: 'neighbors', 'pca', 'umap'\n",
       "    obsm: 'X_pca', 'X_umap'\n",
       "    varm: 'PCs'\n",
       "    layers: 'counts', 'vst_counts'\n",
       "    obsp: 'connectivities', 'distances'"
      ]
     },
     "execution_count": 8,
     "metadata": {},
     "output_type": "execute_result"
    }
   ],
   "execution_count": 8
  },
  {
   "metadata": {
    "ExecuteTime": {
     "end_time": "2024-08-25T17:26:30.152065Z",
     "start_time": "2024-08-25T17:26:29.916760Z"
    }
   },
   "cell_type": "code",
   "source": "data_null_gen = sc.read_h5ad(\"./notebook-synthetic-schaefer_strimmer-filtered_data_maxpool_processed.h5ad\")",
   "id": "a35f648088076e7b",
   "outputs": [],
   "execution_count": 20
  },
  {
   "metadata": {
    "ExecuteTime": {
     "end_time": "2024-08-25T17:26:31.778467Z",
     "start_time": "2024-08-25T17:26:31.773509Z"
    }
   },
   "cell_type": "code",
   "source": "type(data_null_gen.layers[\"counts\"])",
   "id": "126f96abf9cc89e0",
   "outputs": [
    {
     "data": {
      "text/plain": [
       "numpy.ndarray"
      ]
     },
     "execution_count": 21,
     "metadata": {},
     "output_type": "execute_result"
    }
   ],
   "execution_count": 21
  },
  {
   "metadata": {
    "ExecuteTime": {
     "end_time": "2024-08-25T17:26:32.892780Z",
     "start_time": "2024-08-25T17:26:32.845613Z"
    }
   },
   "cell_type": "code",
   "source": "np.count_nonzero(data_null_gen.layers[\"counts\"])",
   "id": "987549a4b884600d",
   "outputs": [
    {
     "data": {
      "text/plain": [
       "1524653"
      ]
     },
     "execution_count": 22,
     "metadata": {},
     "output_type": "execute_result"
    }
   ],
   "execution_count": 22
  },
  {
   "metadata": {},
   "cell_type": "markdown",
   "source": "",
   "id": "e8d1a5ba94849404"
  },
  {
   "metadata": {
    "ExecuteTime": {
     "end_time": "2024-08-25T12:12:27.791198Z",
     "start_time": "2024-08-25T12:12:27.721964Z"
    }
   },
   "cell_type": "code",
   "source": "orig = sc.read_h5ad(\"../../data/probe_Bac_scRNAseq_Rosenthal/B subtilis minimal media/filtered_data_maxpool_processed.h5ad\")",
   "id": "48baa9292c56c39c",
   "outputs": [],
   "execution_count": 9
  },
  {
   "metadata": {
    "ExecuteTime": {
     "end_time": "2024-08-25T12:13:02.874361Z",
     "start_time": "2024-08-25T12:13:02.585050Z"
    }
   },
   "cell_type": "code",
   "source": "np.count_nonzero(orig.layers[\"counts\"])",
   "id": "f31e0622ccaf2aec",
   "outputs": [
    {
     "ename": "ValueError",
     "evalue": "The truth value of an array with more than one element is ambiguous. Use a.any() or a.all().",
     "output_type": "error",
     "traceback": [
      "\u001B[0;31m---------------------------------------------------------------------------\u001B[0m",
      "\u001B[0;31mValueError\u001B[0m                                Traceback (most recent call last)",
      "Cell \u001B[0;32mIn[12], line 1\u001B[0m\n\u001B[0;32m----> 1\u001B[0m \u001B[43mnp\u001B[49m\u001B[38;5;241;43m.\u001B[39;49m\u001B[43mcount_nonzero\u001B[49m\u001B[43m(\u001B[49m\u001B[43morig\u001B[49m\u001B[38;5;241;43m.\u001B[39;49m\u001B[43mlayers\u001B[49m\u001B[43m[\u001B[49m\u001B[38;5;124;43m\"\u001B[39;49m\u001B[38;5;124;43mcounts\u001B[39;49m\u001B[38;5;124;43m\"\u001B[39;49m\u001B[43m]\u001B[49m\u001B[43m)\u001B[49m\n",
      "File \u001B[0;32m~/miniforge3/envs/BacSC-ProDG/lib/python3.9/site-packages/numpy/core/numeric.py:476\u001B[0m, in \u001B[0;36mcount_nonzero\u001B[0;34m(a, axis, keepdims)\u001B[0m\n\u001B[1;32m    417\u001B[0m \u001B[38;5;250m\u001B[39m\u001B[38;5;124;03m\"\"\"\u001B[39;00m\n\u001B[1;32m    418\u001B[0m \u001B[38;5;124;03mCounts the number of non-zero values in the array ``a``.\u001B[39;00m\n\u001B[1;32m    419\u001B[0m \n\u001B[0;32m   (...)\u001B[0m\n\u001B[1;32m    473\u001B[0m \u001B[38;5;124;03m       [3]])\u001B[39;00m\n\u001B[1;32m    474\u001B[0m \u001B[38;5;124;03m\"\"\"\u001B[39;00m\n\u001B[1;32m    475\u001B[0m \u001B[38;5;28;01mif\u001B[39;00m axis \u001B[38;5;129;01mis\u001B[39;00m \u001B[38;5;28;01mNone\u001B[39;00m \u001B[38;5;129;01mand\u001B[39;00m \u001B[38;5;129;01mnot\u001B[39;00m keepdims:\n\u001B[0;32m--> 476\u001B[0m     \u001B[38;5;28;01mreturn\u001B[39;00m \u001B[43mmultiarray\u001B[49m\u001B[38;5;241;43m.\u001B[39;49m\u001B[43mcount_nonzero\u001B[49m\u001B[43m(\u001B[49m\u001B[43ma\u001B[49m\u001B[43m)\u001B[49m\n\u001B[1;32m    478\u001B[0m a \u001B[38;5;241m=\u001B[39m asanyarray(a)\n\u001B[1;32m    480\u001B[0m \u001B[38;5;66;03m# TODO: this works around .astype(bool) not working properly (gh-9847)\u001B[39;00m\n",
      "File \u001B[0;32m~/miniforge3/envs/BacSC-ProDG/lib/python3.9/site-packages/scipy/sparse/_base.py:396\u001B[0m, in \u001B[0;36m_spbase.__bool__\u001B[0;34m(self)\u001B[0m\n\u001B[1;32m    394\u001B[0m     \u001B[38;5;28;01mreturn\u001B[39;00m \u001B[38;5;28mself\u001B[39m\u001B[38;5;241m.\u001B[39mnnz \u001B[38;5;241m!=\u001B[39m \u001B[38;5;241m0\u001B[39m\n\u001B[1;32m    395\u001B[0m \u001B[38;5;28;01melse\u001B[39;00m:\n\u001B[0;32m--> 396\u001B[0m     \u001B[38;5;28;01mraise\u001B[39;00m \u001B[38;5;167;01mValueError\u001B[39;00m(\u001B[38;5;124m\"\u001B[39m\u001B[38;5;124mThe truth value of an array with more than one \u001B[39m\u001B[38;5;124m\"\u001B[39m\n\u001B[1;32m    397\u001B[0m                      \u001B[38;5;124m\"\u001B[39m\u001B[38;5;124melement is ambiguous. Use a.any() or a.all().\u001B[39m\u001B[38;5;124m\"\u001B[39m)\n",
      "\u001B[0;31mValueError\u001B[0m: The truth value of an array with more than one element is ambiguous. Use a.any() or a.all()."
     ]
    }
   ],
   "execution_count": 12
  },
  {
   "metadata": {
    "ExecuteTime": {
     "end_time": "2024-08-25T12:17:52.838545Z",
     "start_time": "2024-08-25T12:17:52.835177Z"
    }
   },
   "cell_type": "code",
   "source": "type(orig.layers[\"counts\"])",
   "id": "9d0ff47856855016",
   "outputs": [
    {
     "data": {
      "text/plain": [
       "scipy.sparse._csr.csr_matrix"
      ]
     },
     "execution_count": 16,
     "metadata": {},
     "output_type": "execute_result"
    }
   ],
   "execution_count": 16
  },
  {
   "metadata": {
    "ExecuteTime": {
     "end_time": "2024-08-25T12:18:33.082002Z",
     "start_time": "2024-08-25T12:18:33.076805Z"
    }
   },
   "cell_type": "code",
   "source": "isinstance(orig.layers[\"counts\"], scipy.sparse._csr.csr_matrix)",
   "id": "4c0b3f65dfce2b0c",
   "outputs": [
    {
     "data": {
      "text/plain": [
       "True"
      ]
     },
     "execution_count": 19,
     "metadata": {},
     "output_type": "execute_result"
    }
   ],
   "execution_count": 19
  },
  {
   "metadata": {
    "ExecuteTime": {
     "end_time": "2024-08-25T17:56:22.808208Z",
     "start_time": "2024-08-25T17:56:22.803936Z"
    }
   },
   "cell_type": "code",
   "source": "data_null_gen.X",
   "id": "75ebad216f96ef52",
   "outputs": [
    {
     "data": {
      "text/plain": [
       "array([[-0.09942374, -0.24636874, -0.08690693, ..., -0.11580396,\n",
       "        -0.15241045,  0.80866107],\n",
       "       [-0.09942374, -0.24636874, -0.08690693, ..., -0.11580396,\n",
       "        -0.15241045,  1.32464879],\n",
       "       [-0.09942374, -0.24636874, -0.08690693, ..., -0.11580396,\n",
       "        -0.15241045, -0.65217309],\n",
       "       ...,\n",
       "       [-0.09942374, -0.24636874, -0.08690693, ..., -0.11580396,\n",
       "        -0.15241045, -0.65217309],\n",
       "       [-0.09942374, -0.24636874, -0.08690693, ..., -0.11580396,\n",
       "        -0.15241045,  1.3189279 ],\n",
       "       [-0.09942374, -0.24636874, -0.08690693, ..., -0.11580396,\n",
       "        -0.15241045, -0.65217309]])"
      ]
     },
     "execution_count": 24,
     "metadata": {},
     "output_type": "execute_result"
    }
   ],
   "execution_count": 24
  },
  {
   "metadata": {},
   "cell_type": "code",
   "outputs": [],
   "execution_count": null,
   "source": "",
   "id": "e5e760864a4c5f57"
  }
 ],
 "metadata": {
  "kernelspec": {
   "display_name": "Python 3",
   "language": "python",
   "name": "python3"
  },
  "language_info": {
   "codemirror_mode": {
    "name": "ipython",
    "version": 2
   },
   "file_extension": ".py",
   "mimetype": "text/x-python",
   "name": "python",
   "nbconvert_exporter": "python",
   "pygments_lexer": "ipython2",
   "version": "2.7.6"
  }
 },
 "nbformat": 4,
 "nbformat_minor": 5
}
