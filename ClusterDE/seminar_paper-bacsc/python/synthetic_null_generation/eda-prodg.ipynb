{
 "cells": [
  {
   "cell_type": "code",
   "id": "initial_id",
   "metadata": {
    "collapsed": true,
    "ExecuteTime": {
     "end_time": "2024-08-22T17:11:33.085671Z",
     "start_time": "2024-08-22T17:11:31.966619Z"
    }
   },
   "source": [
    "# import prodg\n",
    "from prodg.source import generator\n",
    "import pandas as pd\n",
    "import numpy as np\n",
    "import scanpy as sc"
   ],
   "outputs": [],
   "execution_count": 5
  },
  {
   "metadata": {
    "ExecuteTime": {
     "end_time": "2024-08-22T17:11:33.605988Z",
     "start_time": "2024-08-22T17:11:33.602087Z"
    }
   },
   "cell_type": "code",
   "source": [
    "dg = generator.DataGenerator()\n",
    "print(\"instantiated data generator\")"
   ],
   "id": "6b0d9289fc358e07",
   "outputs": [
    {
     "name": "stdout",
     "output_type": "stream",
     "text": [
      "instantiated data generator\n"
     ]
    }
   ],
   "execution_count": 6
  },
  {
   "metadata": {},
   "cell_type": "code",
   "source": [
    "df = pd.DataFrame(np.random.randint(0,100,size=(100, 4)), columns=['Sample1', 'Sample2', 'Sample3', 'Sample4'])\n",
    "\n",
    "prodg = generator.DataGenerator()\n",
    "\n",
    "prodg.fit(df)"
   ],
   "id": "154050fa0dae5ca5",
   "outputs": [],
   "execution_count": null
  },
  {
   "metadata": {
    "ExecuteTime": {
     "end_time": "2024-08-22T20:38:01.686512Z",
     "start_time": "2024-08-22T20:38:01.680222Z"
    }
   },
   "cell_type": "code",
   "source": [
    "toy_synth_data = pd.read_csv(\"toy_synth_data.csv\")\n",
    "toy_synth_data"
   ],
   "id": "c1cc52251b3331ee",
   "outputs": [
    {
     "data": {
      "text/plain": [
       "    Sample1  Sample2  Sample3  Sample4\n",
       "0      81.0     52.0     40.0     52.0\n",
       "1      40.0     80.0     86.0     28.0\n",
       "2      44.0     86.0     72.0     33.0\n",
       "3      41.0     30.0    114.0     18.0\n",
       "4      68.0     33.0     33.0     46.0\n",
       "..      ...      ...      ...      ...\n",
       "95     79.0     29.0     55.0     41.0\n",
       "96     47.0     91.0     66.0     36.0\n",
       "97     54.0     13.0     92.0     21.0\n",
       "98     77.0     35.0     57.0     41.0\n",
       "99     57.0     24.0     46.0     35.0\n",
       "\n",
       "[100 rows x 4 columns]"
      ],
      "text/html": [
       "<div>\n",
       "<style scoped>\n",
       "    .dataframe tbody tr th:only-of-type {\n",
       "        vertical-align: middle;\n",
       "    }\n",
       "\n",
       "    .dataframe tbody tr th {\n",
       "        vertical-align: top;\n",
       "    }\n",
       "\n",
       "    .dataframe thead th {\n",
       "        text-align: right;\n",
       "    }\n",
       "</style>\n",
       "<table border=\"1\" class=\"dataframe\">\n",
       "  <thead>\n",
       "    <tr style=\"text-align: right;\">\n",
       "      <th></th>\n",
       "      <th>Sample1</th>\n",
       "      <th>Sample2</th>\n",
       "      <th>Sample3</th>\n",
       "      <th>Sample4</th>\n",
       "    </tr>\n",
       "  </thead>\n",
       "  <tbody>\n",
       "    <tr>\n",
       "      <th>0</th>\n",
       "      <td>81.0</td>\n",
       "      <td>52.0</td>\n",
       "      <td>40.0</td>\n",
       "      <td>52.0</td>\n",
       "    </tr>\n",
       "    <tr>\n",
       "      <th>1</th>\n",
       "      <td>40.0</td>\n",
       "      <td>80.0</td>\n",
       "      <td>86.0</td>\n",
       "      <td>28.0</td>\n",
       "    </tr>\n",
       "    <tr>\n",
       "      <th>2</th>\n",
       "      <td>44.0</td>\n",
       "      <td>86.0</td>\n",
       "      <td>72.0</td>\n",
       "      <td>33.0</td>\n",
       "    </tr>\n",
       "    <tr>\n",
       "      <th>3</th>\n",
       "      <td>41.0</td>\n",
       "      <td>30.0</td>\n",
       "      <td>114.0</td>\n",
       "      <td>18.0</td>\n",
       "    </tr>\n",
       "    <tr>\n",
       "      <th>4</th>\n",
       "      <td>68.0</td>\n",
       "      <td>33.0</td>\n",
       "      <td>33.0</td>\n",
       "      <td>46.0</td>\n",
       "    </tr>\n",
       "    <tr>\n",
       "      <th>...</th>\n",
       "      <td>...</td>\n",
       "      <td>...</td>\n",
       "      <td>...</td>\n",
       "      <td>...</td>\n",
       "    </tr>\n",
       "    <tr>\n",
       "      <th>95</th>\n",
       "      <td>79.0</td>\n",
       "      <td>29.0</td>\n",
       "      <td>55.0</td>\n",
       "      <td>41.0</td>\n",
       "    </tr>\n",
       "    <tr>\n",
       "      <th>96</th>\n",
       "      <td>47.0</td>\n",
       "      <td>91.0</td>\n",
       "      <td>66.0</td>\n",
       "      <td>36.0</td>\n",
       "    </tr>\n",
       "    <tr>\n",
       "      <th>97</th>\n",
       "      <td>54.0</td>\n",
       "      <td>13.0</td>\n",
       "      <td>92.0</td>\n",
       "      <td>21.0</td>\n",
       "    </tr>\n",
       "    <tr>\n",
       "      <th>98</th>\n",
       "      <td>77.0</td>\n",
       "      <td>35.0</td>\n",
       "      <td>57.0</td>\n",
       "      <td>41.0</td>\n",
       "    </tr>\n",
       "    <tr>\n",
       "      <th>99</th>\n",
       "      <td>57.0</td>\n",
       "      <td>24.0</td>\n",
       "      <td>46.0</td>\n",
       "      <td>35.0</td>\n",
       "    </tr>\n",
       "  </tbody>\n",
       "</table>\n",
       "<p>100 rows × 4 columns</p>\n",
       "</div>"
      ]
     },
     "execution_count": 40,
     "metadata": {},
     "output_type": "execute_result"
    }
   ],
   "execution_count": 40
  },
  {
   "metadata": {
    "ExecuteTime": {
     "end_time": "2024-08-22T20:26:41.229768Z",
     "start_time": "2024-08-22T20:26:41.225454Z"
    }
   },
   "cell_type": "code",
   "source": [
    "# df\n",
    "print(prodg.marginal[\"params\"].shape)"
   ],
   "id": "db206adf38f30b07",
   "outputs": [
    {
     "name": "stdout",
     "output_type": "stream",
     "text": [
      "(4, 3)\n"
     ]
    }
   ],
   "execution_count": 37
  },
  {
   "metadata": {
    "ExecuteTime": {
     "end_time": "2024-08-22T21:13:39.289678Z",
     "start_time": "2024-08-22T21:13:39.078085Z"
    }
   },
   "cell_type": "code",
   "source": [
    "Bsub_minmed_PB = sc.read_10x_h5(\"../../data/probe_Bac_scRNAseq_Rosenthal/B subtilis minimal media/filtered_feature_bc_matrix.h5\")\n",
    "Bsub_minmed_PB_df = Bsub_minmed_PB.to_df()\n",
    "Bsub_minmed_PB_old_index = Bsub_minmed_PB_df.index\n",
    "Bsub_minmed_PB_df.index = range(0, len(Bsub_minmed_PB_df))"
   ],
   "id": "663e90bcd962725b",
   "outputs": [],
   "execution_count": 48
  },
  {
   "metadata": {
    "ExecuteTime": {
     "end_time": "2024-08-22T21:13:40.604099Z",
     "start_time": "2024-08-22T21:13:40.587488Z"
    }
   },
   "cell_type": "code",
   "source": [
    "Bsub_minmed_PB_df.head()\n",
    "# Bsub_minmed_PB_old_index"
   ],
   "id": "2083c1e24670d982",
   "outputs": [
    {
     "data": {
      "text/plain": [
       "   aadK_1  aadK_2  aadK_3  aadK_4  aadK_5  aadK_6  aadK_7  aadK_8  aadK_9  \\\n",
       "0     0.0     0.0     0.0     0.0     0.0     0.0     0.0     1.0     0.0   \n",
       "1     0.0     0.0     0.0     0.0     0.0     0.0     0.0     0.0     0.0   \n",
       "2     0.0     0.0     0.0     0.0     0.0     0.0     0.0     0.0     0.0   \n",
       "3     0.0     0.0     0.0     0.0     0.0     0.0     0.0     0.0     0.0   \n",
       "4     0.0     0.0     0.0     0.0     0.0     0.0     0.0     0.0     0.0   \n",
       "\n",
       "   aadK_10  ...  zwf_6  zwf_7  zwf_8  zwf_9  zwf_10  zwf_11  zwf_12  zwf_13  \\\n",
       "0      0.0  ...    0.0    0.0    0.0    0.0     0.0     0.0     0.0     0.0   \n",
       "1      0.0  ...    0.0    0.0    0.0    0.0     0.0     0.0     0.0     0.0   \n",
       "2      1.0  ...    0.0    0.0    0.0    0.0     0.0     0.0     1.0     0.0   \n",
       "3      0.0  ...    0.0    0.0    0.0    0.0     0.0     0.0     0.0     0.0   \n",
       "4      0.0  ...    0.0    0.0    0.0    0.0     0.0     0.0     1.0     0.0   \n",
       "\n",
       "   zwf_14  zwf_15  \n",
       "0     0.0     3.0  \n",
       "1     0.0     0.0  \n",
       "2     0.0     0.0  \n",
       "3     0.0     0.0  \n",
       "4     0.0     0.0  \n",
       "\n",
       "[5 rows x 29765 columns]"
      ],
      "text/html": [
       "<div>\n",
       "<style scoped>\n",
       "    .dataframe tbody tr th:only-of-type {\n",
       "        vertical-align: middle;\n",
       "    }\n",
       "\n",
       "    .dataframe tbody tr th {\n",
       "        vertical-align: top;\n",
       "    }\n",
       "\n",
       "    .dataframe thead th {\n",
       "        text-align: right;\n",
       "    }\n",
       "</style>\n",
       "<table border=\"1\" class=\"dataframe\">\n",
       "  <thead>\n",
       "    <tr style=\"text-align: right;\">\n",
       "      <th></th>\n",
       "      <th>aadK_1</th>\n",
       "      <th>aadK_2</th>\n",
       "      <th>aadK_3</th>\n",
       "      <th>aadK_4</th>\n",
       "      <th>aadK_5</th>\n",
       "      <th>aadK_6</th>\n",
       "      <th>aadK_7</th>\n",
       "      <th>aadK_8</th>\n",
       "      <th>aadK_9</th>\n",
       "      <th>aadK_10</th>\n",
       "      <th>...</th>\n",
       "      <th>zwf_6</th>\n",
       "      <th>zwf_7</th>\n",
       "      <th>zwf_8</th>\n",
       "      <th>zwf_9</th>\n",
       "      <th>zwf_10</th>\n",
       "      <th>zwf_11</th>\n",
       "      <th>zwf_12</th>\n",
       "      <th>zwf_13</th>\n",
       "      <th>zwf_14</th>\n",
       "      <th>zwf_15</th>\n",
       "    </tr>\n",
       "  </thead>\n",
       "  <tbody>\n",
       "    <tr>\n",
       "      <th>0</th>\n",
       "      <td>0.0</td>\n",
       "      <td>0.0</td>\n",
       "      <td>0.0</td>\n",
       "      <td>0.0</td>\n",
       "      <td>0.0</td>\n",
       "      <td>0.0</td>\n",
       "      <td>0.0</td>\n",
       "      <td>1.0</td>\n",
       "      <td>0.0</td>\n",
       "      <td>0.0</td>\n",
       "      <td>...</td>\n",
       "      <td>0.0</td>\n",
       "      <td>0.0</td>\n",
       "      <td>0.0</td>\n",
       "      <td>0.0</td>\n",
       "      <td>0.0</td>\n",
       "      <td>0.0</td>\n",
       "      <td>0.0</td>\n",
       "      <td>0.0</td>\n",
       "      <td>0.0</td>\n",
       "      <td>3.0</td>\n",
       "    </tr>\n",
       "    <tr>\n",
       "      <th>1</th>\n",
       "      <td>0.0</td>\n",
       "      <td>0.0</td>\n",
       "      <td>0.0</td>\n",
       "      <td>0.0</td>\n",
       "      <td>0.0</td>\n",
       "      <td>0.0</td>\n",
       "      <td>0.0</td>\n",
       "      <td>0.0</td>\n",
       "      <td>0.0</td>\n",
       "      <td>0.0</td>\n",
       "      <td>...</td>\n",
       "      <td>0.0</td>\n",
       "      <td>0.0</td>\n",
       "      <td>0.0</td>\n",
       "      <td>0.0</td>\n",
       "      <td>0.0</td>\n",
       "      <td>0.0</td>\n",
       "      <td>0.0</td>\n",
       "      <td>0.0</td>\n",
       "      <td>0.0</td>\n",
       "      <td>0.0</td>\n",
       "    </tr>\n",
       "    <tr>\n",
       "      <th>2</th>\n",
       "      <td>0.0</td>\n",
       "      <td>0.0</td>\n",
       "      <td>0.0</td>\n",
       "      <td>0.0</td>\n",
       "      <td>0.0</td>\n",
       "      <td>0.0</td>\n",
       "      <td>0.0</td>\n",
       "      <td>0.0</td>\n",
       "      <td>0.0</td>\n",
       "      <td>1.0</td>\n",
       "      <td>...</td>\n",
       "      <td>0.0</td>\n",
       "      <td>0.0</td>\n",
       "      <td>0.0</td>\n",
       "      <td>0.0</td>\n",
       "      <td>0.0</td>\n",
       "      <td>0.0</td>\n",
       "      <td>1.0</td>\n",
       "      <td>0.0</td>\n",
       "      <td>0.0</td>\n",
       "      <td>0.0</td>\n",
       "    </tr>\n",
       "    <tr>\n",
       "      <th>3</th>\n",
       "      <td>0.0</td>\n",
       "      <td>0.0</td>\n",
       "      <td>0.0</td>\n",
       "      <td>0.0</td>\n",
       "      <td>0.0</td>\n",
       "      <td>0.0</td>\n",
       "      <td>0.0</td>\n",
       "      <td>0.0</td>\n",
       "      <td>0.0</td>\n",
       "      <td>0.0</td>\n",
       "      <td>...</td>\n",
       "      <td>0.0</td>\n",
       "      <td>0.0</td>\n",
       "      <td>0.0</td>\n",
       "      <td>0.0</td>\n",
       "      <td>0.0</td>\n",
       "      <td>0.0</td>\n",
       "      <td>0.0</td>\n",
       "      <td>0.0</td>\n",
       "      <td>0.0</td>\n",
       "      <td>0.0</td>\n",
       "    </tr>\n",
       "    <tr>\n",
       "      <th>4</th>\n",
       "      <td>0.0</td>\n",
       "      <td>0.0</td>\n",
       "      <td>0.0</td>\n",
       "      <td>0.0</td>\n",
       "      <td>0.0</td>\n",
       "      <td>0.0</td>\n",
       "      <td>0.0</td>\n",
       "      <td>0.0</td>\n",
       "      <td>0.0</td>\n",
       "      <td>0.0</td>\n",
       "      <td>...</td>\n",
       "      <td>0.0</td>\n",
       "      <td>0.0</td>\n",
       "      <td>0.0</td>\n",
       "      <td>0.0</td>\n",
       "      <td>0.0</td>\n",
       "      <td>0.0</td>\n",
       "      <td>1.0</td>\n",
       "      <td>0.0</td>\n",
       "      <td>0.0</td>\n",
       "      <td>0.0</td>\n",
       "    </tr>\n",
       "  </tbody>\n",
       "</table>\n",
       "<p>5 rows × 29765 columns</p>\n",
       "</div>"
      ]
     },
     "execution_count": 49,
     "metadata": {},
     "output_type": "execute_result"
    }
   ],
   "execution_count": 49
  },
  {
   "metadata": {
    "ExecuteTime": {
     "end_time": "2024-08-22T21:13:59.726193Z",
     "start_time": "2024-08-22T21:13:59.723024Z"
    }
   },
   "cell_type": "code",
   "source": "prodg_Bsub_minmed_PB = generator.DataGenerator()",
   "id": "c55cf5c4dd4db8b",
   "outputs": [],
   "execution_count": 50
  },
  {
   "metadata": {
    "jupyter": {
     "is_executing": true
    },
    "ExecuteTime": {
     "start_time": "2024-08-22T21:14:53.686351Z"
    }
   },
   "cell_type": "code",
   "source": "prodg_Bsub_minmed_PB.fit(Bsub_minmed_PB_df)",
   "id": "9b3ed3a930aa5938",
   "outputs": [
    {
     "name": "stderr",
     "output_type": "stream",
     "text": [
      "/Users/carsonzhang/miniforge3/envs/BacSC/lib/python3.9/site-packages/statsmodels/discrete/discrete_model.py:3379: RuntimeWarning: divide by zero encountered in log\n",
      "  llf = coeff + size*np.log(prob) + endog*np.log(1-prob)\n",
      "/Users/carsonzhang/miniforge3/envs/BacSC/lib/python3.9/site-packages/statsmodels/discrete/discrete_model.py:3379: RuntimeWarning: invalid value encountered in multiply\n",
      "  llf = coeff + size*np.log(prob) + endog*np.log(1-prob)\n",
      "/Users/carsonzhang/miniforge3/envs/BacSC/lib/python3.9/site-packages/statsmodels/discrete/discrete_model.py:3471: RuntimeWarning: overflow encountered in scalar power\n",
      "  da1 = -alpha**-2\n",
      "/Users/carsonzhang/miniforge3/envs/BacSC/lib/python3.9/site-packages/statsmodels/discrete/discrete_model.py:3375: RuntimeWarning: divide by zero encountered in scalar divide\n",
      "  size = 1/alpha * mu**Q\n",
      "/Users/carsonzhang/miniforge3/envs/BacSC/lib/python3.9/site-packages/statsmodels/discrete/discrete_model.py:3376: RuntimeWarning: invalid value encountered in divide\n",
      "  prob = size/(size+mu)\n",
      "/Users/carsonzhang/miniforge3/envs/BacSC/lib/python3.9/site-packages/statsmodels/discrete/discrete_model.py:3377: RuntimeWarning: invalid value encountered in subtract\n",
      "  coeff = (gamma_ln(size+endog) - gamma_ln(endog+1) -\n",
      "/Users/carsonzhang/miniforge3/envs/BacSC/lib/python3.9/site-packages/statsmodels/discrete/discrete_model.py:3455: RuntimeWarning: divide by zero encountered in scalar divide\n",
      "  a1 = 1/alpha * mu**Q\n",
      "/Users/carsonzhang/miniforge3/envs/BacSC/lib/python3.9/site-packages/statsmodels/discrete/discrete_model.py:3456: RuntimeWarning: invalid value encountered in divide\n",
      "  prob = a1 / (a1 + mu)  # a1 aka \"size\" in _ll_nbin\n",
      "/Users/carsonzhang/miniforge3/envs/BacSC/lib/python3.9/site-packages/statsmodels/discrete/discrete_model.py:3469: RuntimeWarning: invalid value encountered in subtract\n",
      "  dgpart = digamma(y + a1) - digamma(a1)\n",
      "/Users/carsonzhang/miniforge3/envs/BacSC/lib/python3.9/site-packages/statsmodels/discrete/discrete_model.py:3470: RuntimeWarning: invalid value encountered in divide\n",
      "  dparams = exog*a1 * (y-mu)/(mu+a1)\n",
      "/Users/carsonzhang/miniforge3/envs/BacSC/lib/python3.9/site-packages/statsmodels/discrete/discrete_model.py:3471: RuntimeWarning: divide by zero encountered in scalar power\n",
      "  da1 = -alpha**-2\n",
      "/Users/carsonzhang/miniforge3/envs/BacSC/lib/python3.9/site-packages/statsmodels/discrete/discrete_model.py:3470: RuntimeWarning: invalid value encountered in multiply\n",
      "  dparams = exog*a1 * (y-mu)/(mu+a1)\n",
      "/Users/carsonzhang/miniforge3/envs/BacSC/lib/python3.9/site-packages/statsmodels/discrete/discrete_model.py:3384: RuntimeWarning: overflow encountered in exp\n",
      "  alpha = np.exp(params[-1])\n",
      "/Users/carsonzhang/miniforge3/envs/BacSC/lib/python3.9/site-packages/statsmodels/discrete/discrete_model.py:3377: RuntimeWarning: invalid value encountered in subtract\n",
      "  coeff = (gamma_ln(size+endog) - gamma_ln(endog+1) -\n",
      "/Users/carsonzhang/miniforge3/envs/BacSC/lib/python3.9/site-packages/statsmodels/discrete/discrete_model.py:3379: RuntimeWarning: divide by zero encountered in log\n",
      "  llf = coeff + size*np.log(prob) + endog*np.log(1-prob)\n",
      "/Users/carsonzhang/miniforge3/envs/BacSC/lib/python3.9/site-packages/statsmodels/discrete/discrete_model.py:3379: RuntimeWarning: invalid value encountered in multiply\n",
      "  llf = coeff + size*np.log(prob) + endog*np.log(1-prob)\n",
      "/Users/carsonzhang/miniforge3/envs/BacSC/lib/python3.9/site-packages/statsmodels/discrete/discrete_model.py:3448: RuntimeWarning: overflow encountered in exp\n",
      "  alpha = np.exp(params[-1])\n",
      "/Users/carsonzhang/miniforge3/envs/BacSC/lib/python3.9/site-packages/statsmodels/discrete/discrete_model.py:3469: RuntimeWarning: invalid value encountered in subtract\n",
      "  dgpart = digamma(y + a1) - digamma(a1)\n",
      "/Users/carsonzhang/miniforge3/envs/BacSC/lib/python3.9/site-packages/statsmodels/discrete/discrete_model.py:3472: RuntimeWarning: divide by zero encountered in log\n",
      "  dalpha = (dgpart + np.log(a1)\n",
      "/Users/carsonzhang/miniforge3/envs/BacSC/lib/python3.9/site-packages/statsmodels/discrete/discrete_model.py:3472: RuntimeWarning: invalid value encountered in add\n",
      "  dalpha = (dgpart + np.log(a1)\n",
      "/Users/carsonzhang/miniforge3/envs/BacSC/lib/python3.9/site-packages/statsmodels/discrete/discrete_model.py:3448: RuntimeWarning: overflow encountered in exp\n",
      "  alpha = np.exp(params[-1])\n",
      "/Users/carsonzhang/miniforge3/envs/BacSC/lib/python3.9/site-packages/statsmodels/discrete/discrete_model.py:3469: RuntimeWarning: invalid value encountered in subtract\n",
      "  dgpart = digamma(y + a1) - digamma(a1)\n",
      "/Users/carsonzhang/miniforge3/envs/BacSC/lib/python3.9/site-packages/statsmodels/discrete/discrete_model.py:3472: RuntimeWarning: divide by zero encountered in log\n",
      "  dalpha = (dgpart + np.log(a1)\n",
      "/Users/carsonzhang/miniforge3/envs/BacSC/lib/python3.9/site-packages/statsmodels/discrete/discrete_model.py:3472: RuntimeWarning: invalid value encountered in add\n",
      "  dalpha = (dgpart + np.log(a1)\n",
      "/Users/carsonzhang/miniforge3/envs/BacSC/lib/python3.9/site-packages/scipy/optimize/_optimize.py:1292: OptimizeWarning: Desired error not necessarily achieved due to precision loss.\n",
      "  res = _minimize_bfgs(f, x0, args, fprime, callback=callback, **opts)\n",
      "/Users/carsonzhang/miniforge3/envs/BacSC/lib/python3.9/site-packages/statsmodels/discrete/discrete_model.py:3579: RuntimeWarning: overflow encountered in exp\n",
      "  alpha = np.exp(params[-1])\n",
      "/Users/carsonzhang/miniforge3/envs/BacSC/lib/python3.9/site-packages/statsmodels/discrete/discrete_model.py:3589: RuntimeWarning: invalid value encountered in subtract\n",
      "  dgpart = digamma(a1 + y) - digamma(a1)\n",
      "/Users/carsonzhang/miniforge3/envs/BacSC/lib/python3.9/site-packages/statsmodels/discrete/discrete_model.py:3614: RuntimeWarning: divide by zero encountered in log\n",
      "  np.log(prob) - (y - mu)/(a1+mu))\n",
      "/Users/carsonzhang/miniforge3/envs/BacSC/lib/python3.9/site-packages/statsmodels/discrete/discrete_model.py:3613: RuntimeWarning: invalid value encountered in add\n",
      "  dalpha = da1 * (dgpart +\n",
      "/Users/carsonzhang/miniforge3/envs/BacSC/lib/python3.9/site-packages/statsmodels/discrete/discrete_model.py:3615: RuntimeWarning: invalid value encountered in subtract\n",
      "  dada = (da2 * dalpha/da1 + da1**2 * (special.polygamma(1, a1+y) -\n",
      "/Users/carsonzhang/miniforge3/envs/BacSC/lib/python3.9/site-packages/statsmodels/discrete/discrete_model.py:3616: RuntimeWarning: divide by zero encountered in scalar divide\n",
      "  special.polygamma(1, a1) + 1/a1 - 1/(a1 + mu) +\n",
      "/Users/carsonzhang/miniforge3/envs/BacSC/lib/python3.9/site-packages/statsmodels/discrete/discrete_model.py:3615: RuntimeWarning: invalid value encountered in add\n",
      "  dada = (da2 * dalpha/da1 + da1**2 * (special.polygamma(1, a1+y) -\n",
      "/Users/carsonzhang/miniforge3/envs/BacSC/lib/python3.9/site-packages/statsmodels/base/model.py:595: HessianInversionWarning: Inverting hessian failed, no bse or cov_params available\n",
      "  warnings.warn('Inverting hessian failed, no bse or cov_params '\n",
      "/Users/carsonzhang/miniforge3/envs/BacSC/lib/python3.9/site-packages/statsmodels/base/model.py:607: ConvergenceWarning: Maximum Likelihood optimization failed to converge. Check mle_retvals\n",
      "  warnings.warn(\"Maximum Likelihood optimization failed to \"\n",
      "/Users/carsonzhang/miniforge3/envs/BacSC/lib/python3.9/site-packages/statsmodels/discrete/discrete_model.py:3757: RuntimeWarning: overflow encountered in exp\n",
      "  mlefit._results.params[-1] = np.exp(mlefit._results.params[-1])\n"
     ]
    },
    {
     "name": "stdout",
     "output_type": "stream",
     "text": [
      "         Current function value: nan\n",
      "         Iterations: 2\n",
      "         Function evaluations: 123\n",
      "         Gradient evaluations: 123\n"
     ]
    },
    {
     "name": "stderr",
     "output_type": "stream",
     "text": [
      "/Users/carsonzhang/miniforge3/envs/BacSC/lib/python3.9/site-packages/statsmodels/base/optimizer.py:19: FutureWarning: Keyword arguments have been passed to the optimizer that have no effect. The list of allowed keyword arguments for method nm is: xtol, ftol, maxfun. The list of unsupported keyword arguments passed include: gtol. After release 0.14, this will raise.\n",
      "  warnings.warn(\n"
     ]
    },
    {
     "name": "stdout",
     "output_type": "stream",
     "text": [
      "Optimization terminated successfully.\n",
      "         Current function value: 0.034997\n",
      "         Iterations: 551\n",
      "         Function evaluations: 977\n",
      "Optimization terminated successfully.\n",
      "         Current function value: 0.101118\n",
      "         Iterations: 4\n",
      "         Function evaluations: 12\n",
      "         Gradient evaluations: 12\n"
     ]
    },
    {
     "name": "stderr",
     "output_type": "stream",
     "text": [
      "/Users/carsonzhang/miniforge3/envs/BacSC/lib/python3.9/site-packages/statsmodels/discrete/discrete_model.py:3377: RuntimeWarning: invalid value encountered in subtract\n",
      "  coeff = (gamma_ln(size+endog) - gamma_ln(endog+1) -\n",
      "/Users/carsonzhang/miniforge3/envs/BacSC/lib/python3.9/site-packages/statsmodels/discrete/discrete_model.py:3379: RuntimeWarning: divide by zero encountered in log\n",
      "  llf = coeff + size*np.log(prob) + endog*np.log(1-prob)\n",
      "/Users/carsonzhang/miniforge3/envs/BacSC/lib/python3.9/site-packages/statsmodels/discrete/discrete_model.py:3379: RuntimeWarning: invalid value encountered in multiply\n",
      "  llf = coeff + size*np.log(prob) + endog*np.log(1-prob)\n",
      "/Users/carsonzhang/miniforge3/envs/BacSC/lib/python3.9/site-packages/statsmodels/base/optimizer.py:19: FutureWarning: Keyword arguments have been passed to the optimizer that have no effect. The list of allowed keyword arguments for method nm is: xtol, ftol, maxfun. The list of unsupported keyword arguments passed include: gtol. After release 0.14, this will raise.\n",
      "  warnings.warn(\n",
      "/Users/carsonzhang/miniforge3/envs/BacSC/lib/python3.9/site-packages/statsmodels/discrete/discrete_model.py:3937: RuntimeWarning: invalid value encountered in log\n",
      "  a1 * np.log(a1) + y * np.log(mu) -\n",
      "/Users/carsonzhang/miniforge3/envs/BacSC/lib/python3.9/site-packages/statsmodels/discrete/discrete_model.py:3938: RuntimeWarning: invalid value encountered in log\n",
      "  (y + a1) * np.log(a2))\n"
     ]
    },
    {
     "name": "stdout",
     "output_type": "stream",
     "text": [
      "Optimization terminated successfully.\n",
      "         Current function value: 0.100907\n",
      "         Iterations: 267\n",
      "         Function evaluations: 473\n"
     ]
    },
    {
     "name": "stderr",
     "output_type": "stream",
     "text": [
      "/Users/carsonzhang/miniforge3/envs/BacSC/lib/python3.9/site-packages/scipy/optimize/_optimize.py:1292: OptimizeWarning: Desired error not necessarily achieved due to precision loss.\n",
      "  res = _minimize_bfgs(f, x0, args, fprime, callback=callback, **opts)\n",
      "/Users/carsonzhang/miniforge3/envs/BacSC/lib/python3.9/site-packages/statsmodels/base/model.py:595: HessianInversionWarning: Inverting hessian failed, no bse or cov_params available\n",
      "  warnings.warn('Inverting hessian failed, no bse or cov_params '\n",
      "/Users/carsonzhang/miniforge3/envs/BacSC/lib/python3.9/site-packages/statsmodels/base/model.py:607: ConvergenceWarning: Maximum Likelihood optimization failed to converge. Check mle_retvals\n",
      "  warnings.warn(\"Maximum Likelihood optimization failed to \"\n",
      "/Users/carsonzhang/miniforge3/envs/BacSC/lib/python3.9/site-packages/statsmodels/base/optimizer.py:19: FutureWarning: Keyword arguments have been passed to the optimizer that have no effect. The list of allowed keyword arguments for method nm is: xtol, ftol, maxfun. The list of unsupported keyword arguments passed include: gtol. After release 0.14, this will raise.\n",
      "  warnings.warn(\n"
     ]
    },
    {
     "name": "stdout",
     "output_type": "stream",
     "text": [
      "         Current function value: 0.177066\n",
      "         Iterations: 1\n",
      "         Function evaluations: 28\n",
      "         Gradient evaluations: 22\n",
      "Optimization terminated successfully.\n",
      "         Current function value: 0.124785\n",
      "         Iterations: 361\n",
      "         Function evaluations: 657\n",
      "Optimization terminated successfully.\n",
      "         Current function value: 0.039420\n",
      "         Iterations: 2\n",
      "         Function evaluations: 10\n",
      "         Gradient evaluations: 10\n"
     ]
    },
    {
     "name": "stderr",
     "output_type": "stream",
     "text": [
      "/Users/carsonzhang/miniforge3/envs/BacSC/lib/python3.9/site-packages/statsmodels/base/optimizer.py:19: FutureWarning: Keyword arguments have been passed to the optimizer that have no effect. The list of allowed keyword arguments for method nm is: xtol, ftol, maxfun. The list of unsupported keyword arguments passed include: gtol. After release 0.14, this will raise.\n",
      "  warnings.warn(\n"
     ]
    },
    {
     "name": "stdout",
     "output_type": "stream",
     "text": [
      "Optimization terminated successfully.\n",
      "         Current function value: 0.039420\n",
      "         Iterations: 492\n",
      "         Function evaluations: 886\n",
      "Optimization terminated successfully.\n",
      "         Current function value: 0.145878\n",
      "         Iterations: 3\n",
      "         Function evaluations: 11\n",
      "         Gradient evaluations: 11\n"
     ]
    },
    {
     "name": "stderr",
     "output_type": "stream",
     "text": [
      "/Users/carsonzhang/miniforge3/envs/BacSC/lib/python3.9/site-packages/statsmodels/base/optimizer.py:19: FutureWarning: Keyword arguments have been passed to the optimizer that have no effect. The list of allowed keyword arguments for method nm is: xtol, ftol, maxfun. The list of unsupported keyword arguments passed include: gtol. After release 0.14, this will raise.\n",
      "  warnings.warn(\n"
     ]
    },
    {
     "name": "stdout",
     "output_type": "stream",
     "text": [
      "Optimization terminated successfully.\n",
      "         Current function value: 0.145878\n",
      "         Iterations: 359\n",
      "         Function evaluations: 662\n",
      "Optimization terminated successfully.\n",
      "         Current function value: 0.117224\n",
      "         Iterations: 5\n",
      "         Function evaluations: 13\n",
      "         Gradient evaluations: 13\n"
     ]
    },
    {
     "name": "stderr",
     "output_type": "stream",
     "text": [
      "/Users/carsonzhang/miniforge3/envs/BacSC/lib/python3.9/site-packages/statsmodels/base/optimizer.py:19: FutureWarning: Keyword arguments have been passed to the optimizer that have no effect. The list of allowed keyword arguments for method nm is: xtol, ftol, maxfun. The list of unsupported keyword arguments passed include: gtol. After release 0.14, this will raise.\n",
      "  warnings.warn(\n"
     ]
    },
    {
     "name": "stdout",
     "output_type": "stream",
     "text": [
      "Optimization terminated successfully.\n",
      "         Current function value: 0.117214\n",
      "         Iterations: 262\n",
      "         Function evaluations: 454\n"
     ]
    },
    {
     "name": "stderr",
     "output_type": "stream",
     "text": [
      "/Users/carsonzhang/miniforge3/envs/BacSC/lib/python3.9/site-packages/statsmodels/discrete/discrete_model.py:3379: RuntimeWarning: divide by zero encountered in log\n",
      "  llf = coeff + size*np.log(prob) + endog*np.log(1-prob)\n",
      "/Users/carsonzhang/miniforge3/envs/BacSC/lib/python3.9/site-packages/statsmodels/discrete/discrete_model.py:3379: RuntimeWarning: invalid value encountered in multiply\n",
      "  llf = coeff + size*np.log(prob) + endog*np.log(1-prob)\n"
     ]
    },
    {
     "name": "stdout",
     "output_type": "stream",
     "text": [
      "Optimization terminated successfully.\n",
      "         Current function value: 0.033740\n",
      "         Iterations: 4\n",
      "         Function evaluations: 19\n",
      "         Gradient evaluations: 19\n"
     ]
    },
    {
     "name": "stderr",
     "output_type": "stream",
     "text": [
      "/Users/carsonzhang/miniforge3/envs/BacSC/lib/python3.9/site-packages/statsmodels/base/optimizer.py:19: FutureWarning: Keyword arguments have been passed to the optimizer that have no effect. The list of allowed keyword arguments for method nm is: xtol, ftol, maxfun. The list of unsupported keyword arguments passed include: gtol. After release 0.14, this will raise.\n",
      "  warnings.warn(\n"
     ]
    },
    {
     "name": "stdout",
     "output_type": "stream",
     "text": [
      "Optimization terminated successfully.\n",
      "         Current function value: 0.033740\n",
      "         Iterations: 85\n",
      "         Function evaluations: 157\n",
      "Optimization terminated successfully.\n",
      "         Current function value: 0.036782\n",
      "         Iterations: 3\n",
      "         Function evaluations: 16\n",
      "         Gradient evaluations: 16\n"
     ]
    },
    {
     "name": "stderr",
     "output_type": "stream",
     "text": [
      "/Users/carsonzhang/miniforge3/envs/BacSC/lib/python3.9/site-packages/statsmodels/base/model.py:595: HessianInversionWarning: Inverting hessian failed, no bse or cov_params available\n",
      "  warnings.warn('Inverting hessian failed, no bse or cov_params '\n",
      "/Users/carsonzhang/miniforge3/envs/BacSC/lib/python3.9/site-packages/statsmodels/discrete/discrete_model.py:3379: RuntimeWarning: divide by zero encountered in log\n",
      "  llf = coeff + size*np.log(prob) + endog*np.log(1-prob)\n",
      "/Users/carsonzhang/miniforge3/envs/BacSC/lib/python3.9/site-packages/statsmodels/discrete/discrete_model.py:3379: RuntimeWarning: invalid value encountered in multiply\n",
      "  llf = coeff + size*np.log(prob) + endog*np.log(1-prob)\n",
      "/Users/carsonzhang/miniforge3/envs/BacSC/lib/python3.9/site-packages/statsmodels/base/model.py:595: HessianInversionWarning: Inverting hessian failed, no bse or cov_params available\n",
      "  warnings.warn('Inverting hessian failed, no bse or cov_params '\n",
      "/Users/carsonzhang/miniforge3/envs/BacSC/lib/python3.9/site-packages/statsmodels/base/optimizer.py:19: FutureWarning: Keyword arguments have been passed to the optimizer that have no effect. The list of allowed keyword arguments for method nm is: xtol, ftol, maxfun. The list of unsupported keyword arguments passed include: gtol. After release 0.14, this will raise.\n",
      "  warnings.warn(\n",
      "/Users/carsonzhang/miniforge3/envs/BacSC/lib/python3.9/site-packages/statsmodels/discrete/discrete_model.py:3937: RuntimeWarning: invalid value encountered in log\n",
      "  a1 * np.log(a1) + y * np.log(mu) -\n",
      "/Users/carsonzhang/miniforge3/envs/BacSC/lib/python3.9/site-packages/statsmodels/discrete/discrete_model.py:3938: RuntimeWarning: invalid value encountered in log\n",
      "  (y + a1) * np.log(a2))\n"
     ]
    },
    {
     "name": "stdout",
     "output_type": "stream",
     "text": [
      "Optimization terminated successfully.\n",
      "         Current function value: 0.034604\n",
      "         Iterations: 301\n",
      "         Function evaluations: 547\n"
     ]
    },
    {
     "name": "stderr",
     "output_type": "stream",
     "text": [
      "/Users/carsonzhang/miniforge3/envs/BacSC/lib/python3.9/site-packages/statsmodels/base/model.py:595: HessianInversionWarning: Inverting hessian failed, no bse or cov_params available\n",
      "  warnings.warn('Inverting hessian failed, no bse or cov_params '\n",
      "/Users/carsonzhang/miniforge3/envs/BacSC/lib/python3.9/site-packages/statsmodels/discrete/discrete_model.py:3379: RuntimeWarning: divide by zero encountered in log\n",
      "  llf = coeff + size*np.log(prob) + endog*np.log(1-prob)\n",
      "/Users/carsonzhang/miniforge3/envs/BacSC/lib/python3.9/site-packages/statsmodels/discrete/discrete_model.py:3379: RuntimeWarning: invalid value encountered in multiply\n",
      "  llf = coeff + size*np.log(prob) + endog*np.log(1-prob)\n",
      "/Users/carsonzhang/miniforge3/envs/BacSC/lib/python3.9/site-packages/statsmodels/discrete/discrete_model.py:3471: RuntimeWarning: overflow encountered in scalar power\n",
      "  da1 = -alpha**-2\n",
      "/Users/carsonzhang/miniforge3/envs/BacSC/lib/python3.9/site-packages/statsmodels/discrete/discrete_model.py:3375: RuntimeWarning: divide by zero encountered in scalar divide\n",
      "  size = 1/alpha * mu**Q\n",
      "/Users/carsonzhang/miniforge3/envs/BacSC/lib/python3.9/site-packages/statsmodels/discrete/discrete_model.py:3376: RuntimeWarning: invalid value encountered in divide\n",
      "  prob = size/(size+mu)\n",
      "/Users/carsonzhang/miniforge3/envs/BacSC/lib/python3.9/site-packages/statsmodels/discrete/discrete_model.py:3377: RuntimeWarning: invalid value encountered in subtract\n",
      "  coeff = (gamma_ln(size+endog) - gamma_ln(endog+1) -\n",
      "/Users/carsonzhang/miniforge3/envs/BacSC/lib/python3.9/site-packages/statsmodels/discrete/discrete_model.py:3455: RuntimeWarning: divide by zero encountered in scalar divide\n",
      "  a1 = 1/alpha * mu**Q\n",
      "/Users/carsonzhang/miniforge3/envs/BacSC/lib/python3.9/site-packages/statsmodels/discrete/discrete_model.py:3456: RuntimeWarning: invalid value encountered in divide\n",
      "  prob = a1 / (a1 + mu)  # a1 aka \"size\" in _ll_nbin\n",
      "/Users/carsonzhang/miniforge3/envs/BacSC/lib/python3.9/site-packages/statsmodels/discrete/discrete_model.py:3469: RuntimeWarning: invalid value encountered in subtract\n",
      "  dgpart = digamma(y + a1) - digamma(a1)\n",
      "/Users/carsonzhang/miniforge3/envs/BacSC/lib/python3.9/site-packages/statsmodels/discrete/discrete_model.py:3470: RuntimeWarning: invalid value encountered in divide\n",
      "  dparams = exog*a1 * (y-mu)/(mu+a1)\n",
      "/Users/carsonzhang/miniforge3/envs/BacSC/lib/python3.9/site-packages/statsmodels/discrete/discrete_model.py:3471: RuntimeWarning: divide by zero encountered in scalar power\n",
      "  da1 = -alpha**-2\n",
      "/Users/carsonzhang/miniforge3/envs/BacSC/lib/python3.9/site-packages/statsmodels/discrete/discrete_model.py:3470: RuntimeWarning: invalid value encountered in multiply\n",
      "  dparams = exog*a1 * (y-mu)/(mu+a1)\n"
     ]
    },
    {
     "name": "stdout",
     "output_type": "stream",
     "text": [
      "Optimization terminated successfully.\n",
      "         Current function value: 0.036925\n",
      "         Iterations: 2\n",
      "         Function evaluations: 114\n",
      "         Gradient evaluations: 114\n"
     ]
    },
    {
     "name": "stderr",
     "output_type": "stream",
     "text": [
      "/Users/carsonzhang/miniforge3/envs/BacSC/lib/python3.9/site-packages/statsmodels/base/model.py:595: HessianInversionWarning: Inverting hessian failed, no bse or cov_params available\n",
      "  warnings.warn('Inverting hessian failed, no bse or cov_params '\n",
      "/Users/carsonzhang/miniforge3/envs/BacSC/lib/python3.9/site-packages/statsmodels/base/optimizer.py:19: FutureWarning: Keyword arguments have been passed to the optimizer that have no effect. The list of allowed keyword arguments for method nm is: xtol, ftol, maxfun. The list of unsupported keyword arguments passed include: gtol. After release 0.14, this will raise.\n",
      "  warnings.warn(\n",
      "/Users/carsonzhang/miniforge3/envs/BacSC/lib/python3.9/site-packages/statsmodels/discrete/discrete_model.py:3937: RuntimeWarning: invalid value encountered in log\n",
      "  a1 * np.log(a1) + y * np.log(mu) -\n",
      "/Users/carsonzhang/miniforge3/envs/BacSC/lib/python3.9/site-packages/statsmodels/discrete/discrete_model.py:3938: RuntimeWarning: invalid value encountered in log\n",
      "  (y + a1) * np.log(a2))\n"
     ]
    },
    {
     "name": "stdout",
     "output_type": "stream",
     "text": [
      "Optimization terminated successfully.\n",
      "         Current function value: 0.034898\n",
      "         Iterations: 287\n",
      "         Function evaluations: 508\n"
     ]
    },
    {
     "name": "stderr",
     "output_type": "stream",
     "text": [
      "/Users/carsonzhang/miniforge3/envs/BacSC/lib/python3.9/site-packages/statsmodels/base/model.py:595: HessianInversionWarning: Inverting hessian failed, no bse or cov_params available\n",
      "  warnings.warn('Inverting hessian failed, no bse or cov_params '\n",
      "/Users/carsonzhang/miniforge3/envs/BacSC/lib/python3.9/site-packages/statsmodels/discrete/discrete_model.py:3379: RuntimeWarning: divide by zero encountered in log\n",
      "  llf = coeff + size*np.log(prob) + endog*np.log(1-prob)\n",
      "/Users/carsonzhang/miniforge3/envs/BacSC/lib/python3.9/site-packages/statsmodels/discrete/discrete_model.py:3379: RuntimeWarning: invalid value encountered in multiply\n",
      "  llf = coeff + size*np.log(prob) + endog*np.log(1-prob)\n",
      "/Users/carsonzhang/miniforge3/envs/BacSC/lib/python3.9/site-packages/statsmodels/discrete/discrete_model.py:3471: RuntimeWarning: overflow encountered in scalar power\n",
      "  da1 = -alpha**-2\n",
      "/Users/carsonzhang/miniforge3/envs/BacSC/lib/python3.9/site-packages/statsmodels/discrete/discrete_model.py:3375: RuntimeWarning: divide by zero encountered in scalar divide\n",
      "  size = 1/alpha * mu**Q\n",
      "/Users/carsonzhang/miniforge3/envs/BacSC/lib/python3.9/site-packages/statsmodels/discrete/discrete_model.py:3376: RuntimeWarning: invalid value encountered in divide\n",
      "  prob = size/(size+mu)\n",
      "/Users/carsonzhang/miniforge3/envs/BacSC/lib/python3.9/site-packages/statsmodels/discrete/discrete_model.py:3377: RuntimeWarning: invalid value encountered in subtract\n",
      "  coeff = (gamma_ln(size+endog) - gamma_ln(endog+1) -\n",
      "/Users/carsonzhang/miniforge3/envs/BacSC/lib/python3.9/site-packages/statsmodels/discrete/discrete_model.py:3455: RuntimeWarning: divide by zero encountered in scalar divide\n",
      "  a1 = 1/alpha * mu**Q\n",
      "/Users/carsonzhang/miniforge3/envs/BacSC/lib/python3.9/site-packages/statsmodels/discrete/discrete_model.py:3456: RuntimeWarning: invalid value encountered in divide\n",
      "  prob = a1 / (a1 + mu)  # a1 aka \"size\" in _ll_nbin\n",
      "/Users/carsonzhang/miniforge3/envs/BacSC/lib/python3.9/site-packages/statsmodels/discrete/discrete_model.py:3469: RuntimeWarning: invalid value encountered in subtract\n",
      "  dgpart = digamma(y + a1) - digamma(a1)\n",
      "/Users/carsonzhang/miniforge3/envs/BacSC/lib/python3.9/site-packages/statsmodels/discrete/discrete_model.py:3470: RuntimeWarning: invalid value encountered in divide\n",
      "  dparams = exog*a1 * (y-mu)/(mu+a1)\n",
      "/Users/carsonzhang/miniforge3/envs/BacSC/lib/python3.9/site-packages/statsmodels/discrete/discrete_model.py:3471: RuntimeWarning: divide by zero encountered in scalar power\n",
      "  da1 = -alpha**-2\n",
      "/Users/carsonzhang/miniforge3/envs/BacSC/lib/python3.9/site-packages/statsmodels/discrete/discrete_model.py:3470: RuntimeWarning: invalid value encountered in multiply\n",
      "  dparams = exog*a1 * (y-mu)/(mu+a1)\n",
      "/Users/carsonzhang/miniforge3/envs/BacSC/lib/python3.9/site-packages/statsmodels/base/model.py:595: HessianInversionWarning: Inverting hessian failed, no bse or cov_params available\n",
      "  warnings.warn('Inverting hessian failed, no bse or cov_params '\n"
     ]
    },
    {
     "name": "stdout",
     "output_type": "stream",
     "text": [
      "Optimization terminated successfully.\n",
      "         Current function value: 0.036617\n",
      "         Iterations: 2\n",
      "         Function evaluations: 114\n",
      "         Gradient evaluations: 114\n"
     ]
    },
    {
     "name": "stderr",
     "output_type": "stream",
     "text": [
      "/Users/carsonzhang/miniforge3/envs/BacSC/lib/python3.9/site-packages/statsmodels/base/optimizer.py:19: FutureWarning: Keyword arguments have been passed to the optimizer that have no effect. The list of allowed keyword arguments for method nm is: xtol, ftol, maxfun. The list of unsupported keyword arguments passed include: gtol. After release 0.14, this will raise.\n",
      "  warnings.warn(\n",
      "/Users/carsonzhang/miniforge3/envs/BacSC/lib/python3.9/site-packages/statsmodels/discrete/discrete_model.py:3937: RuntimeWarning: invalid value encountered in log\n",
      "  a1 * np.log(a1) + y * np.log(mu) -\n",
      "/Users/carsonzhang/miniforge3/envs/BacSC/lib/python3.9/site-packages/statsmodels/discrete/discrete_model.py:3938: RuntimeWarning: invalid value encountered in log\n",
      "  (y + a1) * np.log(a2))\n"
     ]
    },
    {
     "name": "stdout",
     "output_type": "stream",
     "text": [
      "Optimization terminated successfully.\n",
      "         Current function value: 0.034436\n",
      "         Iterations: 280\n",
      "         Function evaluations: 491\n",
      "Optimization terminated successfully.\n",
      "         Current function value: 0.036864\n",
      "         Iterations: 1\n",
      "         Function evaluations: 12\n",
      "         Gradient evaluations: 12\n"
     ]
    },
    {
     "name": "stderr",
     "output_type": "stream",
     "text": [
      "/Users/carsonzhang/miniforge3/envs/BacSC/lib/python3.9/site-packages/statsmodels/base/model.py:595: HessianInversionWarning: Inverting hessian failed, no bse or cov_params available\n",
      "  warnings.warn('Inverting hessian failed, no bse or cov_params '\n",
      "/Users/carsonzhang/miniforge3/envs/BacSC/lib/python3.9/site-packages/statsmodels/discrete/discrete_model.py:3379: RuntimeWarning: divide by zero encountered in log\n",
      "  llf = coeff + size*np.log(prob) + endog*np.log(1-prob)\n",
      "/Users/carsonzhang/miniforge3/envs/BacSC/lib/python3.9/site-packages/statsmodels/discrete/discrete_model.py:3379: RuntimeWarning: invalid value encountered in multiply\n",
      "  llf = coeff + size*np.log(prob) + endog*np.log(1-prob)\n",
      "/Users/carsonzhang/miniforge3/envs/BacSC/lib/python3.9/site-packages/statsmodels/base/optimizer.py:19: FutureWarning: Keyword arguments have been passed to the optimizer that have no effect. The list of allowed keyword arguments for method nm is: xtol, ftol, maxfun. The list of unsupported keyword arguments passed include: gtol. After release 0.14, this will raise.\n",
      "  warnings.warn(\n"
     ]
    },
    {
     "name": "stdout",
     "output_type": "stream",
     "text": [
      "Optimization terminated successfully.\n",
      "         Current function value: 0.034396\n",
      "         Iterations: 327\n",
      "         Function evaluations: 563\n"
     ]
    },
    {
     "name": "stderr",
     "output_type": "stream",
     "text": [
      "/Users/carsonzhang/miniforge3/envs/BacSC/lib/python3.9/site-packages/statsmodels/discrete/discrete_model.py:3379: RuntimeWarning: divide by zero encountered in log\n",
      "  llf = coeff + size*np.log(prob) + endog*np.log(1-prob)\n",
      "/Users/carsonzhang/miniforge3/envs/BacSC/lib/python3.9/site-packages/statsmodels/discrete/discrete_model.py:3379: RuntimeWarning: invalid value encountered in multiply\n",
      "  llf = coeff + size*np.log(prob) + endog*np.log(1-prob)\n",
      "/Users/carsonzhang/miniforge3/envs/BacSC/lib/python3.9/site-packages/statsmodels/discrete/discrete_model.py:3471: RuntimeWarning: overflow encountered in scalar power\n",
      "  da1 = -alpha**-2\n",
      "/Users/carsonzhang/miniforge3/envs/BacSC/lib/python3.9/site-packages/statsmodels/discrete/discrete_model.py:3375: RuntimeWarning: divide by zero encountered in scalar divide\n",
      "  size = 1/alpha * mu**Q\n",
      "/Users/carsonzhang/miniforge3/envs/BacSC/lib/python3.9/site-packages/statsmodels/discrete/discrete_model.py:3376: RuntimeWarning: invalid value encountered in divide\n",
      "  prob = size/(size+mu)\n",
      "/Users/carsonzhang/miniforge3/envs/BacSC/lib/python3.9/site-packages/statsmodels/discrete/discrete_model.py:3377: RuntimeWarning: invalid value encountered in subtract\n",
      "  coeff = (gamma_ln(size+endog) - gamma_ln(endog+1) -\n",
      "/Users/carsonzhang/miniforge3/envs/BacSC/lib/python3.9/site-packages/statsmodels/discrete/discrete_model.py:3455: RuntimeWarning: divide by zero encountered in scalar divide\n",
      "  a1 = 1/alpha * mu**Q\n",
      "/Users/carsonzhang/miniforge3/envs/BacSC/lib/python3.9/site-packages/statsmodels/discrete/discrete_model.py:3456: RuntimeWarning: invalid value encountered in divide\n",
      "  prob = a1 / (a1 + mu)  # a1 aka \"size\" in _ll_nbin\n",
      "/Users/carsonzhang/miniforge3/envs/BacSC/lib/python3.9/site-packages/statsmodels/discrete/discrete_model.py:3469: RuntimeWarning: invalid value encountered in subtract\n",
      "  dgpart = digamma(y + a1) - digamma(a1)\n",
      "/Users/carsonzhang/miniforge3/envs/BacSC/lib/python3.9/site-packages/statsmodels/discrete/discrete_model.py:3470: RuntimeWarning: invalid value encountered in divide\n",
      "  dparams = exog*a1 * (y-mu)/(mu+a1)\n",
      "/Users/carsonzhang/miniforge3/envs/BacSC/lib/python3.9/site-packages/statsmodels/discrete/discrete_model.py:3471: RuntimeWarning: divide by zero encountered in scalar power\n",
      "  da1 = -alpha**-2\n",
      "/Users/carsonzhang/miniforge3/envs/BacSC/lib/python3.9/site-packages/statsmodels/discrete/discrete_model.py:3470: RuntimeWarning: invalid value encountered in multiply\n",
      "  dparams = exog*a1 * (y-mu)/(mu+a1)\n",
      "/Users/carsonzhang/miniforge3/envs/BacSC/lib/python3.9/site-packages/statsmodels/discrete/discrete_model.py:3384: RuntimeWarning: overflow encountered in exp\n",
      "  alpha = np.exp(params[-1])\n",
      "/Users/carsonzhang/miniforge3/envs/BacSC/lib/python3.9/site-packages/statsmodels/discrete/discrete_model.py:3377: RuntimeWarning: invalid value encountered in subtract\n",
      "  coeff = (gamma_ln(size+endog) - gamma_ln(endog+1) -\n",
      "/Users/carsonzhang/miniforge3/envs/BacSC/lib/python3.9/site-packages/statsmodels/discrete/discrete_model.py:3379: RuntimeWarning: divide by zero encountered in log\n",
      "  llf = coeff + size*np.log(prob) + endog*np.log(1-prob)\n",
      "/Users/carsonzhang/miniforge3/envs/BacSC/lib/python3.9/site-packages/statsmodels/discrete/discrete_model.py:3379: RuntimeWarning: invalid value encountered in multiply\n",
      "  llf = coeff + size*np.log(prob) + endog*np.log(1-prob)\n",
      "/Users/carsonzhang/miniforge3/envs/BacSC/lib/python3.9/site-packages/statsmodels/discrete/discrete_model.py:3448: RuntimeWarning: overflow encountered in exp\n",
      "  alpha = np.exp(params[-1])\n",
      "/Users/carsonzhang/miniforge3/envs/BacSC/lib/python3.9/site-packages/statsmodels/discrete/discrete_model.py:3469: RuntimeWarning: invalid value encountered in subtract\n",
      "  dgpart = digamma(y + a1) - digamma(a1)\n",
      "/Users/carsonzhang/miniforge3/envs/BacSC/lib/python3.9/site-packages/statsmodels/discrete/discrete_model.py:3472: RuntimeWarning: divide by zero encountered in log\n",
      "  dalpha = (dgpart + np.log(a1)\n",
      "/Users/carsonzhang/miniforge3/envs/BacSC/lib/python3.9/site-packages/statsmodels/discrete/discrete_model.py:3472: RuntimeWarning: invalid value encountered in add\n",
      "  dalpha = (dgpart + np.log(a1)\n",
      "/Users/carsonzhang/miniforge3/envs/BacSC/lib/python3.9/site-packages/statsmodels/discrete/discrete_model.py:3448: RuntimeWarning: overflow encountered in exp\n",
      "  alpha = np.exp(params[-1])\n",
      "/Users/carsonzhang/miniforge3/envs/BacSC/lib/python3.9/site-packages/statsmodels/discrete/discrete_model.py:3469: RuntimeWarning: invalid value encountered in subtract\n",
      "  dgpart = digamma(y + a1) - digamma(a1)\n",
      "/Users/carsonzhang/miniforge3/envs/BacSC/lib/python3.9/site-packages/statsmodels/discrete/discrete_model.py:3472: RuntimeWarning: divide by zero encountered in log\n",
      "  dalpha = (dgpart + np.log(a1)\n",
      "/Users/carsonzhang/miniforge3/envs/BacSC/lib/python3.9/site-packages/statsmodels/discrete/discrete_model.py:3472: RuntimeWarning: invalid value encountered in add\n",
      "  dalpha = (dgpart + np.log(a1)\n",
      "/Users/carsonzhang/miniforge3/envs/BacSC/lib/python3.9/site-packages/scipy/optimize/_optimize.py:1292: OptimizeWarning: Desired error not necessarily achieved due to precision loss.\n",
      "  res = _minimize_bfgs(f, x0, args, fprime, callback=callback, **opts)\n",
      "/Users/carsonzhang/miniforge3/envs/BacSC/lib/python3.9/site-packages/statsmodels/discrete/discrete_model.py:3579: RuntimeWarning: overflow encountered in exp\n",
      "  alpha = np.exp(params[-1])\n",
      "/Users/carsonzhang/miniforge3/envs/BacSC/lib/python3.9/site-packages/statsmodels/discrete/discrete_model.py:3589: RuntimeWarning: invalid value encountered in subtract\n",
      "  dgpart = digamma(a1 + y) - digamma(a1)\n",
      "/Users/carsonzhang/miniforge3/envs/BacSC/lib/python3.9/site-packages/statsmodels/discrete/discrete_model.py:3614: RuntimeWarning: divide by zero encountered in log\n",
      "  np.log(prob) - (y - mu)/(a1+mu))\n",
      "/Users/carsonzhang/miniforge3/envs/BacSC/lib/python3.9/site-packages/statsmodels/discrete/discrete_model.py:3613: RuntimeWarning: invalid value encountered in add\n",
      "  dalpha = da1 * (dgpart +\n",
      "/Users/carsonzhang/miniforge3/envs/BacSC/lib/python3.9/site-packages/statsmodels/discrete/discrete_model.py:3615: RuntimeWarning: invalid value encountered in subtract\n",
      "  dada = (da2 * dalpha/da1 + da1**2 * (special.polygamma(1, a1+y) -\n",
      "/Users/carsonzhang/miniforge3/envs/BacSC/lib/python3.9/site-packages/statsmodels/discrete/discrete_model.py:3616: RuntimeWarning: divide by zero encountered in scalar divide\n",
      "  special.polygamma(1, a1) + 1/a1 - 1/(a1 + mu) +\n",
      "/Users/carsonzhang/miniforge3/envs/BacSC/lib/python3.9/site-packages/statsmodels/discrete/discrete_model.py:3615: RuntimeWarning: invalid value encountered in add\n",
      "  dada = (da2 * dalpha/da1 + da1**2 * (special.polygamma(1, a1+y) -\n",
      "/Users/carsonzhang/miniforge3/envs/BacSC/lib/python3.9/site-packages/statsmodels/base/model.py:595: HessianInversionWarning: Inverting hessian failed, no bse or cov_params available\n",
      "  warnings.warn('Inverting hessian failed, no bse or cov_params '\n",
      "/Users/carsonzhang/miniforge3/envs/BacSC/lib/python3.9/site-packages/statsmodels/base/model.py:607: ConvergenceWarning: Maximum Likelihood optimization failed to converge. Check mle_retvals\n",
      "  warnings.warn(\"Maximum Likelihood optimization failed to \"\n",
      "/Users/carsonzhang/miniforge3/envs/BacSC/lib/python3.9/site-packages/statsmodels/discrete/discrete_model.py:3757: RuntimeWarning: overflow encountered in exp\n",
      "  mlefit._results.params[-1] = np.exp(mlefit._results.params[-1])\n"
     ]
    },
    {
     "name": "stdout",
     "output_type": "stream",
     "text": [
      "         Current function value: nan\n",
      "         Iterations: 2\n",
      "         Function evaluations: 123\n",
      "         Gradient evaluations: 123\n"
     ]
    },
    {
     "name": "stderr",
     "output_type": "stream",
     "text": [
      "/Users/carsonzhang/miniforge3/envs/BacSC/lib/python3.9/site-packages/statsmodels/base/optimizer.py:19: FutureWarning: Keyword arguments have been passed to the optimizer that have no effect. The list of allowed keyword arguments for method nm is: xtol, ftol, maxfun. The list of unsupported keyword arguments passed include: gtol. After release 0.14, this will raise.\n",
      "  warnings.warn(\n"
     ]
    },
    {
     "name": "stdout",
     "output_type": "stream",
     "text": [
      "Optimization terminated successfully.\n",
      "         Current function value: 0.036110\n",
      "         Iterations: 307\n",
      "         Function evaluations: 544\n",
      "         Current function value: nan\n",
      "         Iterations: 2\n",
      "         Function evaluations: 32\n",
      "         Gradient evaluations: 32\n"
     ]
    },
    {
     "name": "stderr",
     "output_type": "stream",
     "text": [
      "/Users/carsonzhang/miniforge3/envs/BacSC/lib/python3.9/site-packages/statsmodels/discrete/discrete_model.py:3377: RuntimeWarning: invalid value encountered in subtract\n",
      "  coeff = (gamma_ln(size+endog) - gamma_ln(endog+1) -\n",
      "/Users/carsonzhang/miniforge3/envs/BacSC/lib/python3.9/site-packages/statsmodels/discrete/discrete_model.py:3379: RuntimeWarning: divide by zero encountered in log\n",
      "  llf = coeff + size*np.log(prob) + endog*np.log(1-prob)\n",
      "/Users/carsonzhang/miniforge3/envs/BacSC/lib/python3.9/site-packages/statsmodels/discrete/discrete_model.py:3379: RuntimeWarning: invalid value encountered in multiply\n",
      "  llf = coeff + size*np.log(prob) + endog*np.log(1-prob)\n",
      "/Users/carsonzhang/miniforge3/envs/BacSC/lib/python3.9/site-packages/statsmodels/discrete/discrete_model.py:3379: RuntimeWarning: divide by zero encountered in log\n",
      "  llf = coeff + size*np.log(prob) + endog*np.log(1-prob)\n",
      "/Users/carsonzhang/miniforge3/envs/BacSC/lib/python3.9/site-packages/statsmodels/discrete/discrete_model.py:3379: RuntimeWarning: invalid value encountered in multiply\n",
      "  llf = coeff + size*np.log(prob) + endog*np.log(1-prob)\n",
      "/Users/carsonzhang/miniforge3/envs/BacSC/lib/python3.9/site-packages/statsmodels/discrete/discrete_model.py:3471: RuntimeWarning: overflow encountered in scalar power\n",
      "  da1 = -alpha**-2\n",
      "/Users/carsonzhang/miniforge3/envs/BacSC/lib/python3.9/site-packages/statsmodels/discrete/discrete_model.py:3384: RuntimeWarning: overflow encountered in exp\n",
      "  alpha = np.exp(params[-1])\n",
      "/Users/carsonzhang/miniforge3/envs/BacSC/lib/python3.9/site-packages/statsmodels/discrete/discrete_model.py:3377: RuntimeWarning: invalid value encountered in subtract\n",
      "  coeff = (gamma_ln(size+endog) - gamma_ln(endog+1) -\n",
      "/Users/carsonzhang/miniforge3/envs/BacSC/lib/python3.9/site-packages/statsmodels/discrete/discrete_model.py:3379: RuntimeWarning: divide by zero encountered in log\n",
      "  llf = coeff + size*np.log(prob) + endog*np.log(1-prob)\n",
      "/Users/carsonzhang/miniforge3/envs/BacSC/lib/python3.9/site-packages/statsmodels/discrete/discrete_model.py:3379: RuntimeWarning: invalid value encountered in multiply\n",
      "  llf = coeff + size*np.log(prob) + endog*np.log(1-prob)\n",
      "/Users/carsonzhang/miniforge3/envs/BacSC/lib/python3.9/site-packages/statsmodels/discrete/discrete_model.py:3448: RuntimeWarning: overflow encountered in exp\n",
      "  alpha = np.exp(params[-1])\n",
      "/Users/carsonzhang/miniforge3/envs/BacSC/lib/python3.9/site-packages/statsmodels/discrete/discrete_model.py:3469: RuntimeWarning: invalid value encountered in subtract\n",
      "  dgpart = digamma(y + a1) - digamma(a1)\n",
      "/Users/carsonzhang/miniforge3/envs/BacSC/lib/python3.9/site-packages/statsmodels/discrete/discrete_model.py:3472: RuntimeWarning: divide by zero encountered in log\n",
      "  dalpha = (dgpart + np.log(a1)\n",
      "/Users/carsonzhang/miniforge3/envs/BacSC/lib/python3.9/site-packages/statsmodels/discrete/discrete_model.py:3472: RuntimeWarning: invalid value encountered in add\n",
      "  dalpha = (dgpart + np.log(a1)\n",
      "/Users/carsonzhang/miniforge3/envs/BacSC/lib/python3.9/site-packages/statsmodels/discrete/discrete_model.py:3448: RuntimeWarning: overflow encountered in exp\n",
      "  alpha = np.exp(params[-1])\n",
      "/Users/carsonzhang/miniforge3/envs/BacSC/lib/python3.9/site-packages/statsmodels/discrete/discrete_model.py:3469: RuntimeWarning: invalid value encountered in subtract\n",
      "  dgpart = digamma(y + a1) - digamma(a1)\n",
      "/Users/carsonzhang/miniforge3/envs/BacSC/lib/python3.9/site-packages/statsmodels/discrete/discrete_model.py:3472: RuntimeWarning: divide by zero encountered in log\n",
      "  dalpha = (dgpart + np.log(a1)\n",
      "/Users/carsonzhang/miniforge3/envs/BacSC/lib/python3.9/site-packages/statsmodels/discrete/discrete_model.py:3472: RuntimeWarning: invalid value encountered in add\n",
      "  dalpha = (dgpart + np.log(a1)\n",
      "/Users/carsonzhang/miniforge3/envs/BacSC/lib/python3.9/site-packages/scipy/optimize/_optimize.py:1292: OptimizeWarning: Desired error not necessarily achieved due to precision loss.\n",
      "  res = _minimize_bfgs(f, x0, args, fprime, callback=callback, **opts)\n",
      "/Users/carsonzhang/miniforge3/envs/BacSC/lib/python3.9/site-packages/statsmodels/discrete/discrete_model.py:3579: RuntimeWarning: overflow encountered in exp\n",
      "  alpha = np.exp(params[-1])\n",
      "/Users/carsonzhang/miniforge3/envs/BacSC/lib/python3.9/site-packages/statsmodels/discrete/discrete_model.py:3589: RuntimeWarning: invalid value encountered in subtract\n",
      "  dgpart = digamma(a1 + y) - digamma(a1)\n",
      "/Users/carsonzhang/miniforge3/envs/BacSC/lib/python3.9/site-packages/statsmodels/discrete/discrete_model.py:3614: RuntimeWarning: divide by zero encountered in log\n",
      "  np.log(prob) - (y - mu)/(a1+mu))\n",
      "/Users/carsonzhang/miniforge3/envs/BacSC/lib/python3.9/site-packages/statsmodels/discrete/discrete_model.py:3613: RuntimeWarning: invalid value encountered in add\n",
      "  dalpha = da1 * (dgpart +\n",
      "/Users/carsonzhang/miniforge3/envs/BacSC/lib/python3.9/site-packages/statsmodels/discrete/discrete_model.py:3615: RuntimeWarning: invalid value encountered in subtract\n",
      "  dada = (da2 * dalpha/da1 + da1**2 * (special.polygamma(1, a1+y) -\n",
      "/Users/carsonzhang/miniforge3/envs/BacSC/lib/python3.9/site-packages/statsmodels/discrete/discrete_model.py:3616: RuntimeWarning: divide by zero encountered in scalar divide\n",
      "  special.polygamma(1, a1) + 1/a1 - 1/(a1 + mu) +\n",
      "/Users/carsonzhang/miniforge3/envs/BacSC/lib/python3.9/site-packages/statsmodels/discrete/discrete_model.py:3615: RuntimeWarning: invalid value encountered in add\n",
      "  dada = (da2 * dalpha/da1 + da1**2 * (special.polygamma(1, a1+y) -\n",
      "/Users/carsonzhang/miniforge3/envs/BacSC/lib/python3.9/site-packages/statsmodels/base/model.py:595: HessianInversionWarning: Inverting hessian failed, no bse or cov_params available\n",
      "  warnings.warn('Inverting hessian failed, no bse or cov_params '\n",
      "/Users/carsonzhang/miniforge3/envs/BacSC/lib/python3.9/site-packages/statsmodels/base/model.py:607: ConvergenceWarning: Maximum Likelihood optimization failed to converge. Check mle_retvals\n",
      "  warnings.warn(\"Maximum Likelihood optimization failed to \"\n",
      "/Users/carsonzhang/miniforge3/envs/BacSC/lib/python3.9/site-packages/statsmodels/discrete/discrete_model.py:3757: RuntimeWarning: overflow encountered in exp\n",
      "  mlefit._results.params[-1] = np.exp(mlefit._results.params[-1])\n",
      "/Users/carsonzhang/miniforge3/envs/BacSC/lib/python3.9/site-packages/statsmodels/base/optimizer.py:19: FutureWarning: Keyword arguments have been passed to the optimizer that have no effect. The list of allowed keyword arguments for method nm is: xtol, ftol, maxfun. The list of unsupported keyword arguments passed include: gtol. After release 0.14, this will raise.\n",
      "  warnings.warn(\n"
     ]
    },
    {
     "name": "stdout",
     "output_type": "stream",
     "text": [
      "Optimization terminated successfully.\n",
      "         Current function value: 0.034516\n",
      "         Iterations: 313\n",
      "         Function evaluations: 552\n"
     ]
    },
    {
     "name": "stderr",
     "output_type": "stream",
     "text": [
      "/Users/carsonzhang/miniforge3/envs/BacSC/lib/python3.9/site-packages/statsmodels/discrete/discrete_model.py:3377: RuntimeWarning: invalid value encountered in subtract\n",
      "  coeff = (gamma_ln(size+endog) - gamma_ln(endog+1) -\n",
      "/Users/carsonzhang/miniforge3/envs/BacSC/lib/python3.9/site-packages/statsmodels/discrete/discrete_model.py:3379: RuntimeWarning: divide by zero encountered in log\n",
      "  llf = coeff + size*np.log(prob) + endog*np.log(1-prob)\n",
      "/Users/carsonzhang/miniforge3/envs/BacSC/lib/python3.9/site-packages/statsmodels/discrete/discrete_model.py:3379: RuntimeWarning: invalid value encountered in multiply\n",
      "  llf = coeff + size*np.log(prob) + endog*np.log(1-prob)\n",
      "/Users/carsonzhang/miniforge3/envs/BacSC/lib/python3.9/site-packages/statsmodels/discrete/discrete_model.py:3379: RuntimeWarning: divide by zero encountered in log\n",
      "  llf = coeff + size*np.log(prob) + endog*np.log(1-prob)\n",
      "/Users/carsonzhang/miniforge3/envs/BacSC/lib/python3.9/site-packages/statsmodels/discrete/discrete_model.py:3379: RuntimeWarning: invalid value encountered in multiply\n",
      "  llf = coeff + size*np.log(prob) + endog*np.log(1-prob)\n",
      "/Users/carsonzhang/miniforge3/envs/BacSC/lib/python3.9/site-packages/statsmodels/discrete/discrete_model.py:3471: RuntimeWarning: overflow encountered in scalar power\n",
      "  da1 = -alpha**-2\n",
      "/Users/carsonzhang/miniforge3/envs/BacSC/lib/python3.9/site-packages/statsmodels/discrete/discrete_model.py:3375: RuntimeWarning: divide by zero encountered in scalar divide\n",
      "  size = 1/alpha * mu**Q\n",
      "/Users/carsonzhang/miniforge3/envs/BacSC/lib/python3.9/site-packages/statsmodels/discrete/discrete_model.py:3376: RuntimeWarning: invalid value encountered in divide\n",
      "  prob = size/(size+mu)\n",
      "/Users/carsonzhang/miniforge3/envs/BacSC/lib/python3.9/site-packages/statsmodels/discrete/discrete_model.py:3377: RuntimeWarning: invalid value encountered in subtract\n",
      "  coeff = (gamma_ln(size+endog) - gamma_ln(endog+1) -\n",
      "/Users/carsonzhang/miniforge3/envs/BacSC/lib/python3.9/site-packages/statsmodels/discrete/discrete_model.py:3455: RuntimeWarning: divide by zero encountered in scalar divide\n",
      "  a1 = 1/alpha * mu**Q\n",
      "/Users/carsonzhang/miniforge3/envs/BacSC/lib/python3.9/site-packages/statsmodels/discrete/discrete_model.py:3456: RuntimeWarning: invalid value encountered in divide\n",
      "  prob = a1 / (a1 + mu)  # a1 aka \"size\" in _ll_nbin\n",
      "/Users/carsonzhang/miniforge3/envs/BacSC/lib/python3.9/site-packages/statsmodels/discrete/discrete_model.py:3469: RuntimeWarning: invalid value encountered in subtract\n",
      "  dgpart = digamma(y + a1) - digamma(a1)\n",
      "/Users/carsonzhang/miniforge3/envs/BacSC/lib/python3.9/site-packages/statsmodels/discrete/discrete_model.py:3470: RuntimeWarning: invalid value encountered in divide\n",
      "  dparams = exog*a1 * (y-mu)/(mu+a1)\n",
      "/Users/carsonzhang/miniforge3/envs/BacSC/lib/python3.9/site-packages/statsmodels/discrete/discrete_model.py:3471: RuntimeWarning: divide by zero encountered in scalar power\n",
      "  da1 = -alpha**-2\n",
      "/Users/carsonzhang/miniforge3/envs/BacSC/lib/python3.9/site-packages/statsmodels/discrete/discrete_model.py:3470: RuntimeWarning: invalid value encountered in multiply\n",
      "  dparams = exog*a1 * (y-mu)/(mu+a1)\n",
      "/Users/carsonzhang/miniforge3/envs/BacSC/lib/python3.9/site-packages/statsmodels/base/model.py:595: HessianInversionWarning: Inverting hessian failed, no bse or cov_params available\n",
      "  warnings.warn('Inverting hessian failed, no bse or cov_params '\n"
     ]
    },
    {
     "name": "stdout",
     "output_type": "stream",
     "text": [
      "Optimization terminated successfully.\n",
      "         Current function value: 0.038878\n",
      "         Iterations: 2\n",
      "         Function evaluations: 114\n",
      "         Gradient evaluations: 114\n"
     ]
    },
    {
     "name": "stderr",
     "output_type": "stream",
     "text": [
      "/Users/carsonzhang/miniforge3/envs/BacSC/lib/python3.9/site-packages/statsmodels/base/optimizer.py:19: FutureWarning: Keyword arguments have been passed to the optimizer that have no effect. The list of allowed keyword arguments for method nm is: xtol, ftol, maxfun. The list of unsupported keyword arguments passed include: gtol. After release 0.14, this will raise.\n",
      "  warnings.warn(\n",
      "/Users/carsonzhang/miniforge3/envs/BacSC/lib/python3.9/site-packages/statsmodels/discrete/discrete_model.py:3937: RuntimeWarning: invalid value encountered in log\n",
      "  a1 * np.log(a1) + y * np.log(mu) -\n",
      "/Users/carsonzhang/miniforge3/envs/BacSC/lib/python3.9/site-packages/statsmodels/discrete/discrete_model.py:3938: RuntimeWarning: invalid value encountered in log\n",
      "  (y + a1) * np.log(a2))\n"
     ]
    },
    {
     "name": "stdout",
     "output_type": "stream",
     "text": [
      "Optimization terminated successfully.\n",
      "         Current function value: 0.036541\n",
      "         Iterations: 289\n",
      "         Function evaluations: 511\n",
      "Optimization terminated successfully.\n",
      "         Current function value: 0.110519\n",
      "         Iterations: 3\n",
      "         Function evaluations: 13\n",
      "         Gradient evaluations: 13\n"
     ]
    },
    {
     "name": "stderr",
     "output_type": "stream",
     "text": [
      "/Users/carsonzhang/miniforge3/envs/BacSC/lib/python3.9/site-packages/statsmodels/base/model.py:595: HessianInversionWarning: Inverting hessian failed, no bse or cov_params available\n",
      "  warnings.warn('Inverting hessian failed, no bse or cov_params '\n",
      "/Users/carsonzhang/miniforge3/envs/BacSC/lib/python3.9/site-packages/statsmodels/base/optimizer.py:19: FutureWarning: Keyword arguments have been passed to the optimizer that have no effect. The list of allowed keyword arguments for method nm is: xtol, ftol, maxfun. The list of unsupported keyword arguments passed include: gtol. After release 0.14, this will raise.\n",
      "  warnings.warn(\n"
     ]
    },
    {
     "name": "stdout",
     "output_type": "stream",
     "text": [
      "Optimization terminated successfully.\n",
      "         Current function value: 0.110519\n",
      "         Iterations: 75\n",
      "         Function evaluations: 139\n"
     ]
    },
    {
     "name": "stderr",
     "output_type": "stream",
     "text": [
      "/Users/carsonzhang/miniforge3/envs/BacSC/lib/python3.9/site-packages/statsmodels/discrete/discrete_model.py:3379: RuntimeWarning: divide by zero encountered in log\n",
      "  llf = coeff + size*np.log(prob) + endog*np.log(1-prob)\n",
      "/Users/carsonzhang/miniforge3/envs/BacSC/lib/python3.9/site-packages/statsmodels/discrete/discrete_model.py:3379: RuntimeWarning: invalid value encountered in multiply\n",
      "  llf = coeff + size*np.log(prob) + endog*np.log(1-prob)\n",
      "/Users/carsonzhang/miniforge3/envs/BacSC/lib/python3.9/site-packages/statsmodels/discrete/discrete_model.py:3471: RuntimeWarning: overflow encountered in scalar power\n",
      "  da1 = -alpha**-2\n",
      "/Users/carsonzhang/miniforge3/envs/BacSC/lib/python3.9/site-packages/statsmodels/discrete/discrete_model.py:3375: RuntimeWarning: divide by zero encountered in scalar divide\n",
      "  size = 1/alpha * mu**Q\n",
      "/Users/carsonzhang/miniforge3/envs/BacSC/lib/python3.9/site-packages/statsmodels/discrete/discrete_model.py:3376: RuntimeWarning: invalid value encountered in divide\n",
      "  prob = size/(size+mu)\n",
      "/Users/carsonzhang/miniforge3/envs/BacSC/lib/python3.9/site-packages/statsmodels/discrete/discrete_model.py:3377: RuntimeWarning: invalid value encountered in subtract\n",
      "  coeff = (gamma_ln(size+endog) - gamma_ln(endog+1) -\n",
      "/Users/carsonzhang/miniforge3/envs/BacSC/lib/python3.9/site-packages/statsmodels/discrete/discrete_model.py:3455: RuntimeWarning: divide by zero encountered in scalar divide\n",
      "  a1 = 1/alpha * mu**Q\n",
      "/Users/carsonzhang/miniforge3/envs/BacSC/lib/python3.9/site-packages/statsmodels/discrete/discrete_model.py:3456: RuntimeWarning: invalid value encountered in divide\n",
      "  prob = a1 / (a1 + mu)  # a1 aka \"size\" in _ll_nbin\n",
      "/Users/carsonzhang/miniforge3/envs/BacSC/lib/python3.9/site-packages/statsmodels/discrete/discrete_model.py:3469: RuntimeWarning: invalid value encountered in subtract\n",
      "  dgpart = digamma(y + a1) - digamma(a1)\n",
      "/Users/carsonzhang/miniforge3/envs/BacSC/lib/python3.9/site-packages/statsmodels/discrete/discrete_model.py:3470: RuntimeWarning: invalid value encountered in divide\n",
      "  dparams = exog*a1 * (y-mu)/(mu+a1)\n",
      "/Users/carsonzhang/miniforge3/envs/BacSC/lib/python3.9/site-packages/statsmodels/discrete/discrete_model.py:3471: RuntimeWarning: divide by zero encountered in scalar power\n",
      "  da1 = -alpha**-2\n",
      "/Users/carsonzhang/miniforge3/envs/BacSC/lib/python3.9/site-packages/statsmodels/discrete/discrete_model.py:3470: RuntimeWarning: invalid value encountered in multiply\n",
      "  dparams = exog*a1 * (y-mu)/(mu+a1)\n",
      "/Users/carsonzhang/miniforge3/envs/BacSC/lib/python3.9/site-packages/statsmodels/discrete/discrete_model.py:3384: RuntimeWarning: overflow encountered in exp\n",
      "  alpha = np.exp(params[-1])\n",
      "/Users/carsonzhang/miniforge3/envs/BacSC/lib/python3.9/site-packages/statsmodels/discrete/discrete_model.py:3377: RuntimeWarning: invalid value encountered in subtract\n",
      "  coeff = (gamma_ln(size+endog) - gamma_ln(endog+1) -\n",
      "/Users/carsonzhang/miniforge3/envs/BacSC/lib/python3.9/site-packages/statsmodels/discrete/discrete_model.py:3379: RuntimeWarning: divide by zero encountered in log\n",
      "  llf = coeff + size*np.log(prob) + endog*np.log(1-prob)\n",
      "/Users/carsonzhang/miniforge3/envs/BacSC/lib/python3.9/site-packages/statsmodels/discrete/discrete_model.py:3379: RuntimeWarning: invalid value encountered in multiply\n",
      "  llf = coeff + size*np.log(prob) + endog*np.log(1-prob)\n",
      "/Users/carsonzhang/miniforge3/envs/BacSC/lib/python3.9/site-packages/statsmodels/discrete/discrete_model.py:3448: RuntimeWarning: overflow encountered in exp\n",
      "  alpha = np.exp(params[-1])\n",
      "/Users/carsonzhang/miniforge3/envs/BacSC/lib/python3.9/site-packages/statsmodels/discrete/discrete_model.py:3469: RuntimeWarning: invalid value encountered in subtract\n",
      "  dgpart = digamma(y + a1) - digamma(a1)\n",
      "/Users/carsonzhang/miniforge3/envs/BacSC/lib/python3.9/site-packages/statsmodels/discrete/discrete_model.py:3472: RuntimeWarning: divide by zero encountered in log\n",
      "  dalpha = (dgpart + np.log(a1)\n",
      "/Users/carsonzhang/miniforge3/envs/BacSC/lib/python3.9/site-packages/statsmodels/discrete/discrete_model.py:3472: RuntimeWarning: invalid value encountered in add\n",
      "  dalpha = (dgpart + np.log(a1)\n",
      "/Users/carsonzhang/miniforge3/envs/BacSC/lib/python3.9/site-packages/statsmodels/discrete/discrete_model.py:3448: RuntimeWarning: overflow encountered in exp\n",
      "  alpha = np.exp(params[-1])\n",
      "/Users/carsonzhang/miniforge3/envs/BacSC/lib/python3.9/site-packages/statsmodels/discrete/discrete_model.py:3469: RuntimeWarning: invalid value encountered in subtract\n",
      "  dgpart = digamma(y + a1) - digamma(a1)\n",
      "/Users/carsonzhang/miniforge3/envs/BacSC/lib/python3.9/site-packages/statsmodels/discrete/discrete_model.py:3472: RuntimeWarning: divide by zero encountered in log\n",
      "  dalpha = (dgpart + np.log(a1)\n",
      "/Users/carsonzhang/miniforge3/envs/BacSC/lib/python3.9/site-packages/statsmodels/discrete/discrete_model.py:3472: RuntimeWarning: invalid value encountered in add\n",
      "  dalpha = (dgpart + np.log(a1)\n",
      "/Users/carsonzhang/miniforge3/envs/BacSC/lib/python3.9/site-packages/scipy/optimize/_optimize.py:1292: OptimizeWarning: Desired error not necessarily achieved due to precision loss.\n",
      "  res = _minimize_bfgs(f, x0, args, fprime, callback=callback, **opts)\n",
      "/Users/carsonzhang/miniforge3/envs/BacSC/lib/python3.9/site-packages/statsmodels/discrete/discrete_model.py:3579: RuntimeWarning: overflow encountered in exp\n",
      "  alpha = np.exp(params[-1])\n",
      "/Users/carsonzhang/miniforge3/envs/BacSC/lib/python3.9/site-packages/statsmodels/discrete/discrete_model.py:3589: RuntimeWarning: invalid value encountered in subtract\n",
      "  dgpart = digamma(a1 + y) - digamma(a1)\n",
      "/Users/carsonzhang/miniforge3/envs/BacSC/lib/python3.9/site-packages/statsmodels/discrete/discrete_model.py:3614: RuntimeWarning: divide by zero encountered in log\n",
      "  np.log(prob) - (y - mu)/(a1+mu))\n",
      "/Users/carsonzhang/miniforge3/envs/BacSC/lib/python3.9/site-packages/statsmodels/discrete/discrete_model.py:3613: RuntimeWarning: invalid value encountered in add\n",
      "  dalpha = da1 * (dgpart +\n",
      "/Users/carsonzhang/miniforge3/envs/BacSC/lib/python3.9/site-packages/statsmodels/discrete/discrete_model.py:3615: RuntimeWarning: invalid value encountered in subtract\n",
      "  dada = (da2 * dalpha/da1 + da1**2 * (special.polygamma(1, a1+y) -\n",
      "/Users/carsonzhang/miniforge3/envs/BacSC/lib/python3.9/site-packages/statsmodels/discrete/discrete_model.py:3616: RuntimeWarning: divide by zero encountered in scalar divide\n",
      "  special.polygamma(1, a1) + 1/a1 - 1/(a1 + mu) +\n",
      "/Users/carsonzhang/miniforge3/envs/BacSC/lib/python3.9/site-packages/statsmodels/discrete/discrete_model.py:3615: RuntimeWarning: invalid value encountered in add\n",
      "  dada = (da2 * dalpha/da1 + da1**2 * (special.polygamma(1, a1+y) -\n",
      "/Users/carsonzhang/miniforge3/envs/BacSC/lib/python3.9/site-packages/statsmodels/base/model.py:595: HessianInversionWarning: Inverting hessian failed, no bse or cov_params available\n",
      "  warnings.warn('Inverting hessian failed, no bse or cov_params '\n",
      "/Users/carsonzhang/miniforge3/envs/BacSC/lib/python3.9/site-packages/statsmodels/base/model.py:607: ConvergenceWarning: Maximum Likelihood optimization failed to converge. Check mle_retvals\n",
      "  warnings.warn(\"Maximum Likelihood optimization failed to \"\n",
      "/Users/carsonzhang/miniforge3/envs/BacSC/lib/python3.9/site-packages/statsmodels/discrete/discrete_model.py:3757: RuntimeWarning: overflow encountered in exp\n",
      "  mlefit._results.params[-1] = np.exp(mlefit._results.params[-1])\n"
     ]
    },
    {
     "name": "stdout",
     "output_type": "stream",
     "text": [
      "         Current function value: nan\n",
      "         Iterations: 2\n",
      "         Function evaluations: 123\n",
      "         Gradient evaluations: 123\n"
     ]
    },
    {
     "name": "stderr",
     "output_type": "stream",
     "text": [
      "/Users/carsonzhang/miniforge3/envs/BacSC/lib/python3.9/site-packages/statsmodels/base/optimizer.py:19: FutureWarning: Keyword arguments have been passed to the optimizer that have no effect. The list of allowed keyword arguments for method nm is: xtol, ftol, maxfun. The list of unsupported keyword arguments passed include: gtol. After release 0.14, this will raise.\n",
      "  warnings.warn(\n"
     ]
    },
    {
     "name": "stdout",
     "output_type": "stream",
     "text": [
      "Optimization terminated successfully.\n",
      "         Current function value: 0.032514\n",
      "         Iterations: 459\n",
      "         Function evaluations: 827\n"
     ]
    },
    {
     "name": "stderr",
     "output_type": "stream",
     "text": [
      "/Users/carsonzhang/miniforge3/envs/BacSC/lib/python3.9/site-packages/statsmodels/discrete/discrete_model.py:3377: RuntimeWarning: invalid value encountered in subtract\n",
      "  coeff = (gamma_ln(size+endog) - gamma_ln(endog+1) -\n",
      "/Users/carsonzhang/miniforge3/envs/BacSC/lib/python3.9/site-packages/statsmodels/discrete/discrete_model.py:3379: RuntimeWarning: divide by zero encountered in log\n",
      "  llf = coeff + size*np.log(prob) + endog*np.log(1-prob)\n",
      "/Users/carsonzhang/miniforge3/envs/BacSC/lib/python3.9/site-packages/statsmodels/discrete/discrete_model.py:3379: RuntimeWarning: invalid value encountered in multiply\n",
      "  llf = coeff + size*np.log(prob) + endog*np.log(1-prob)\n"
     ]
    },
    {
     "name": "stdout",
     "output_type": "stream",
     "text": [
      "Optimization terminated successfully.\n",
      "         Current function value: 0.122203\n",
      "         Iterations: 3\n",
      "         Function evaluations: 17\n",
      "         Gradient evaluations: 17\n"
     ]
    },
    {
     "name": "stderr",
     "output_type": "stream",
     "text": [
      "/Users/carsonzhang/miniforge3/envs/BacSC/lib/python3.9/site-packages/statsmodels/base/optimizer.py:19: FutureWarning: Keyword arguments have been passed to the optimizer that have no effect. The list of allowed keyword arguments for method nm is: xtol, ftol, maxfun. The list of unsupported keyword arguments passed include: gtol. After release 0.14, this will raise.\n",
      "  warnings.warn(\n"
     ]
    },
    {
     "name": "stdout",
     "output_type": "stream",
     "text": [
      "Optimization terminated successfully.\n",
      "         Current function value: 0.122190\n",
      "         Iterations: 233\n",
      "         Function evaluations: 423\n"
     ]
    },
    {
     "name": "stderr",
     "output_type": "stream",
     "text": [
      "/Users/carsonzhang/miniforge3/envs/BacSC/lib/python3.9/site-packages/statsmodels/discrete/discrete_model.py:3379: RuntimeWarning: divide by zero encountered in log\n",
      "  llf = coeff + size*np.log(prob) + endog*np.log(1-prob)\n",
      "/Users/carsonzhang/miniforge3/envs/BacSC/lib/python3.9/site-packages/statsmodels/discrete/discrete_model.py:3379: RuntimeWarning: invalid value encountered in multiply\n",
      "  llf = coeff + size*np.log(prob) + endog*np.log(1-prob)\n",
      "/Users/carsonzhang/miniforge3/envs/BacSC/lib/python3.9/site-packages/statsmodels/discrete/discrete_model.py:3471: RuntimeWarning: overflow encountered in scalar power\n",
      "  da1 = -alpha**-2\n",
      "/Users/carsonzhang/miniforge3/envs/BacSC/lib/python3.9/site-packages/statsmodels/discrete/discrete_model.py:3375: RuntimeWarning: divide by zero encountered in scalar divide\n",
      "  size = 1/alpha * mu**Q\n",
      "/Users/carsonzhang/miniforge3/envs/BacSC/lib/python3.9/site-packages/statsmodels/discrete/discrete_model.py:3376: RuntimeWarning: invalid value encountered in divide\n",
      "  prob = size/(size+mu)\n",
      "/Users/carsonzhang/miniforge3/envs/BacSC/lib/python3.9/site-packages/statsmodels/discrete/discrete_model.py:3377: RuntimeWarning: invalid value encountered in subtract\n",
      "  coeff = (gamma_ln(size+endog) - gamma_ln(endog+1) -\n",
      "/Users/carsonzhang/miniforge3/envs/BacSC/lib/python3.9/site-packages/statsmodels/discrete/discrete_model.py:3455: RuntimeWarning: divide by zero encountered in scalar divide\n",
      "  a1 = 1/alpha * mu**Q\n",
      "/Users/carsonzhang/miniforge3/envs/BacSC/lib/python3.9/site-packages/statsmodels/discrete/discrete_model.py:3456: RuntimeWarning: invalid value encountered in divide\n",
      "  prob = a1 / (a1 + mu)  # a1 aka \"size\" in _ll_nbin\n",
      "/Users/carsonzhang/miniforge3/envs/BacSC/lib/python3.9/site-packages/statsmodels/discrete/discrete_model.py:3469: RuntimeWarning: invalid value encountered in subtract\n",
      "  dgpart = digamma(y + a1) - digamma(a1)\n",
      "/Users/carsonzhang/miniforge3/envs/BacSC/lib/python3.9/site-packages/statsmodels/discrete/discrete_model.py:3470: RuntimeWarning: invalid value encountered in divide\n",
      "  dparams = exog*a1 * (y-mu)/(mu+a1)\n",
      "/Users/carsonzhang/miniforge3/envs/BacSC/lib/python3.9/site-packages/statsmodels/discrete/discrete_model.py:3471: RuntimeWarning: divide by zero encountered in scalar power\n",
      "  da1 = -alpha**-2\n",
      "/Users/carsonzhang/miniforge3/envs/BacSC/lib/python3.9/site-packages/statsmodels/discrete/discrete_model.py:3470: RuntimeWarning: invalid value encountered in multiply\n",
      "  dparams = exog*a1 * (y-mu)/(mu+a1)\n",
      "/Users/carsonzhang/miniforge3/envs/BacSC/lib/python3.9/site-packages/statsmodels/discrete/discrete_model.py:3384: RuntimeWarning: overflow encountered in exp\n",
      "  alpha = np.exp(params[-1])\n",
      "/Users/carsonzhang/miniforge3/envs/BacSC/lib/python3.9/site-packages/statsmodels/discrete/discrete_model.py:3663: RuntimeWarning: overflow encountered in exp\n",
      "  return np.exp(linpred)\n",
      "/Users/carsonzhang/miniforge3/envs/BacSC/lib/python3.9/site-packages/statsmodels/discrete/discrete_model.py:3377: RuntimeWarning: invalid value encountered in subtract\n",
      "  coeff = (gamma_ln(size+endog) - gamma_ln(endog+1) -\n",
      "/Users/carsonzhang/miniforge3/envs/BacSC/lib/python3.9/site-packages/statsmodels/discrete/discrete_model.py:3379: RuntimeWarning: divide by zero encountered in log\n",
      "  llf = coeff + size*np.log(prob) + endog*np.log(1-prob)\n",
      "/Users/carsonzhang/miniforge3/envs/BacSC/lib/python3.9/site-packages/statsmodels/discrete/discrete_model.py:3379: RuntimeWarning: invalid value encountered in multiply\n",
      "  llf = coeff + size*np.log(prob) + endog*np.log(1-prob)\n",
      "/Users/carsonzhang/miniforge3/envs/BacSC/lib/python3.9/site-packages/statsmodels/discrete/discrete_model.py:3448: RuntimeWarning: overflow encountered in exp\n",
      "  alpha = np.exp(params[-1])\n",
      "/Users/carsonzhang/miniforge3/envs/BacSC/lib/python3.9/site-packages/statsmodels/discrete/discrete_model.py:3469: RuntimeWarning: invalid value encountered in subtract\n",
      "  dgpart = digamma(y + a1) - digamma(a1)\n",
      "/Users/carsonzhang/miniforge3/envs/BacSC/lib/python3.9/site-packages/statsmodels/discrete/discrete_model.py:3470: RuntimeWarning: invalid value encountered in multiply\n",
      "  dparams = exog*a1 * (y-mu)/(mu+a1)\n",
      "/Users/carsonzhang/miniforge3/envs/BacSC/lib/python3.9/site-packages/statsmodels/discrete/discrete_model.py:3472: RuntimeWarning: divide by zero encountered in log\n",
      "  dalpha = (dgpart + np.log(a1)\n",
      "/Users/carsonzhang/miniforge3/envs/BacSC/lib/python3.9/site-packages/statsmodels/discrete/discrete_model.py:3472: RuntimeWarning: invalid value encountered in add\n",
      "  dalpha = (dgpart + np.log(a1)\n",
      "/Users/carsonzhang/miniforge3/envs/BacSC/lib/python3.9/site-packages/statsmodels/discrete/discrete_model.py:3473: RuntimeWarning: invalid value encountered in divide\n",
      "  - np.log(a1+mu) - (y-mu)/(a1+mu)).sum() * da1\n",
      "/Users/carsonzhang/miniforge3/envs/BacSC/lib/python3.9/site-packages/statsmodels/discrete/discrete_model.py:3448: RuntimeWarning: overflow encountered in exp\n",
      "  alpha = np.exp(params[-1])\n",
      "/Users/carsonzhang/miniforge3/envs/BacSC/lib/python3.9/site-packages/statsmodels/discrete/discrete_model.py:3663: RuntimeWarning: overflow encountered in exp\n",
      "  return np.exp(linpred)\n",
      "/Users/carsonzhang/miniforge3/envs/BacSC/lib/python3.9/site-packages/statsmodels/discrete/discrete_model.py:3469: RuntimeWarning: invalid value encountered in subtract\n",
      "  dgpart = digamma(y + a1) - digamma(a1)\n",
      "/Users/carsonzhang/miniforge3/envs/BacSC/lib/python3.9/site-packages/statsmodels/discrete/discrete_model.py:3470: RuntimeWarning: invalid value encountered in multiply\n",
      "  dparams = exog*a1 * (y-mu)/(mu+a1)\n",
      "/Users/carsonzhang/miniforge3/envs/BacSC/lib/python3.9/site-packages/statsmodels/discrete/discrete_model.py:3472: RuntimeWarning: divide by zero encountered in log\n",
      "  dalpha = (dgpart + np.log(a1)\n",
      "/Users/carsonzhang/miniforge3/envs/BacSC/lib/python3.9/site-packages/statsmodels/discrete/discrete_model.py:3472: RuntimeWarning: invalid value encountered in add\n",
      "  dalpha = (dgpart + np.log(a1)\n",
      "/Users/carsonzhang/miniforge3/envs/BacSC/lib/python3.9/site-packages/statsmodels/discrete/discrete_model.py:3473: RuntimeWarning: invalid value encountered in divide\n",
      "  - np.log(a1+mu) - (y-mu)/(a1+mu)).sum() * da1\n",
      "/Users/carsonzhang/miniforge3/envs/BacSC/lib/python3.9/site-packages/scipy/optimize/_optimize.py:1292: OptimizeWarning: Desired error not necessarily achieved due to precision loss.\n",
      "  res = _minimize_bfgs(f, x0, args, fprime, callback=callback, **opts)\n",
      "/Users/carsonzhang/miniforge3/envs/BacSC/lib/python3.9/site-packages/statsmodels/discrete/discrete_model.py:3579: RuntimeWarning: overflow encountered in exp\n",
      "  alpha = np.exp(params[-1])\n"
     ]
    },
    {
     "name": "stdout",
     "output_type": "stream",
     "text": [
      "         Current function value: nan\n",
      "         Iterations: 2\n",
      "         Function evaluations: 123\n",
      "         Gradient evaluations: 123\n"
     ]
    },
    {
     "name": "stderr",
     "output_type": "stream",
     "text": [
      "/Users/carsonzhang/miniforge3/envs/BacSC/lib/python3.9/site-packages/statsmodels/discrete/discrete_model.py:3589: RuntimeWarning: invalid value encountered in subtract\n",
      "  dgpart = digamma(a1 + y) - digamma(a1)\n",
      "/Users/carsonzhang/miniforge3/envs/BacSC/lib/python3.9/site-packages/statsmodels/discrete/discrete_model.py:3594: RuntimeWarning: invalid value encountered in multiply\n",
      "  const_arr = a1*mu*(a1+y)/(mu+a1)**2\n",
      "/Users/carsonzhang/miniforge3/envs/BacSC/lib/python3.9/site-packages/statsmodels/discrete/discrete_model.py:3606: RuntimeWarning: invalid value encountered in multiply\n",
      "  dldpda = -np.sum(mu*exog*(y-mu)*a1**2/(mu+a1)**2 , axis=0)\n",
      "/Users/carsonzhang/miniforge3/envs/BacSC/lib/python3.9/site-packages/statsmodels/discrete/discrete_model.py:3614: RuntimeWarning: divide by zero encountered in log\n",
      "  np.log(prob) - (y - mu)/(a1+mu))\n",
      "/Users/carsonzhang/miniforge3/envs/BacSC/lib/python3.9/site-packages/statsmodels/discrete/discrete_model.py:3613: RuntimeWarning: invalid value encountered in add\n",
      "  dalpha = da1 * (dgpart +\n",
      "/Users/carsonzhang/miniforge3/envs/BacSC/lib/python3.9/site-packages/statsmodels/discrete/discrete_model.py:3614: RuntimeWarning: invalid value encountered in divide\n",
      "  np.log(prob) - (y - mu)/(a1+mu))\n",
      "/Users/carsonzhang/miniforge3/envs/BacSC/lib/python3.9/site-packages/statsmodels/discrete/discrete_model.py:3615: RuntimeWarning: invalid value encountered in subtract\n",
      "  dada = (da2 * dalpha/da1 + da1**2 * (special.polygamma(1, a1+y) -\n",
      "/Users/carsonzhang/miniforge3/envs/BacSC/lib/python3.9/site-packages/statsmodels/discrete/discrete_model.py:3616: RuntimeWarning: divide by zero encountered in scalar divide\n",
      "  special.polygamma(1, a1) + 1/a1 - 1/(a1 + mu) +\n",
      "/Users/carsonzhang/miniforge3/envs/BacSC/lib/python3.9/site-packages/statsmodels/discrete/discrete_model.py:3615: RuntimeWarning: invalid value encountered in add\n",
      "  dada = (da2 * dalpha/da1 + da1**2 * (special.polygamma(1, a1+y) -\n",
      "/Users/carsonzhang/miniforge3/envs/BacSC/lib/python3.9/site-packages/statsmodels/discrete/discrete_model.py:3617: RuntimeWarning: invalid value encountered in divide\n",
      "  (y - mu)/(mu + a1)**2)).sum()\n",
      "/Users/carsonzhang/miniforge3/envs/BacSC/lib/python3.9/site-packages/statsmodels/base/model.py:595: HessianInversionWarning: Inverting hessian failed, no bse or cov_params available\n",
      "  warnings.warn('Inverting hessian failed, no bse or cov_params '\n",
      "/Users/carsonzhang/miniforge3/envs/BacSC/lib/python3.9/site-packages/statsmodels/base/model.py:607: ConvergenceWarning: Maximum Likelihood optimization failed to converge. Check mle_retvals\n",
      "  warnings.warn(\"Maximum Likelihood optimization failed to \"\n",
      "/Users/carsonzhang/miniforge3/envs/BacSC/lib/python3.9/site-packages/statsmodels/discrete/discrete_model.py:3757: RuntimeWarning: overflow encountered in exp\n",
      "  mlefit._results.params[-1] = np.exp(mlefit._results.params[-1])\n",
      "/Users/carsonzhang/miniforge3/envs/BacSC/lib/python3.9/site-packages/statsmodels/base/optimizer.py:19: FutureWarning: Keyword arguments have been passed to the optimizer that have no effect. The list of allowed keyword arguments for method nm is: xtol, ftol, maxfun. The list of unsupported keyword arguments passed include: gtol. After release 0.14, this will raise.\n",
      "  warnings.warn(\n",
      "/Users/carsonzhang/miniforge3/envs/BacSC/lib/python3.9/site-packages/statsmodels/discrete/discrete_model.py:3937: RuntimeWarning: invalid value encountered in log\n",
      "  a1 * np.log(a1) + y * np.log(mu) -\n",
      "/Users/carsonzhang/miniforge3/envs/BacSC/lib/python3.9/site-packages/statsmodels/discrete/discrete_model.py:3938: RuntimeWarning: invalid value encountered in log\n",
      "  (y + a1) * np.log(a2))\n"
     ]
    },
    {
     "name": "stdout",
     "output_type": "stream",
     "text": [
      "Optimization terminated successfully.\n",
      "         Current function value: 0.034393\n",
      "         Iterations: 282\n",
      "         Function evaluations: 504\n",
      "Optimization terminated successfully.\n",
      "         Current function value: 0.040224\n",
      "         Iterations: 2\n",
      "         Function evaluations: 9\n",
      "         Gradient evaluations: 9\n"
     ]
    },
    {
     "name": "stderr",
     "output_type": "stream",
     "text": [
      "/Users/carsonzhang/miniforge3/envs/BacSC/lib/python3.9/site-packages/statsmodels/base/model.py:595: HessianInversionWarning: Inverting hessian failed, no bse or cov_params available\n",
      "  warnings.warn('Inverting hessian failed, no bse or cov_params '\n",
      "/Users/carsonzhang/miniforge3/envs/BacSC/lib/python3.9/site-packages/statsmodels/discrete/discrete_model.py:3663: RuntimeWarning: overflow encountered in exp\n",
      "  return np.exp(linpred)\n",
      "/Users/carsonzhang/miniforge3/envs/BacSC/lib/python3.9/site-packages/statsmodels/discrete/discrete_model.py:3377: RuntimeWarning: invalid value encountered in subtract\n",
      "  coeff = (gamma_ln(size+endog) - gamma_ln(endog+1) -\n",
      "/Users/carsonzhang/miniforge3/envs/BacSC/lib/python3.9/site-packages/statsmodels/discrete/discrete_model.py:3379: RuntimeWarning: divide by zero encountered in log\n",
      "  llf = coeff + size*np.log(prob) + endog*np.log(1-prob)\n",
      "/Users/carsonzhang/miniforge3/envs/BacSC/lib/python3.9/site-packages/statsmodels/discrete/discrete_model.py:3379: RuntimeWarning: invalid value encountered in multiply\n",
      "  llf = coeff + size*np.log(prob) + endog*np.log(1-prob)\n",
      "/Users/carsonzhang/lmu_munich/master_stads/ss_24/seminar-CoDA/ClusterDE/seminar_paper-bacsc/python/synthetic_null_generation/prodg/source/generator.py:169: RuntimeWarning: overflow encountered in exp\n",
      "  params, model = [0.0, theta_nb, np.exp(mle_nb.params['const'])], 'nb'\n",
      "/Users/carsonzhang/miniforge3/envs/BacSC/lib/python3.9/site-packages/statsmodels/base/model.py:595: HessianInversionWarning: Inverting hessian failed, no bse or cov_params available\n",
      "  warnings.warn('Inverting hessian failed, no bse or cov_params '\n",
      "/Users/carsonzhang/miniforge3/envs/BacSC/lib/python3.9/site-packages/statsmodels/base/optimizer.py:19: FutureWarning: Keyword arguments have been passed to the optimizer that have no effect. The list of allowed keyword arguments for method nm is: xtol, ftol, maxfun. The list of unsupported keyword arguments passed include: gtol. After release 0.14, this will raise.\n",
      "  warnings.warn(\n",
      "/Users/carsonzhang/miniforge3/envs/BacSC/lib/python3.9/site-packages/statsmodels/discrete/discrete_model.py:3937: RuntimeWarning: invalid value encountered in log\n",
      "  a1 * np.log(a1) + y * np.log(mu) -\n",
      "/Users/carsonzhang/miniforge3/envs/BacSC/lib/python3.9/site-packages/statsmodels/discrete/discrete_model.py:3938: RuntimeWarning: invalid value encountered in log\n",
      "  (y + a1) * np.log(a2))\n"
     ]
    }
   ],
   "execution_count": null
  },
  {
   "metadata": {},
   "cell_type": "code",
   "outputs": [],
   "execution_count": null,
   "source": "print(prodg_Bsub_minmed_PB.marginal[\"params\"])",
   "id": "a4cedc81bd3ef8f2"
  }
 ],
 "metadata": {
  "kernelspec": {
   "display_name": "Python 3",
   "language": "python",
   "name": "python3"
  },
  "language_info": {
   "codemirror_mode": {
    "name": "ipython",
    "version": 2
   },
   "file_extension": ".py",
   "mimetype": "text/x-python",
   "name": "python",
   "nbconvert_exporter": "python",
   "pygments_lexer": "ipython2",
   "version": "2.7.6"
  }
 },
 "nbformat": 4,
 "nbformat_minor": 5
}
